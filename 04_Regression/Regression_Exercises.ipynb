{
 "cells": [
  {
   "cell_type": "markdown",
   "source": "# Regression Exercises",
   "metadata": {
    "colab_type": "text",
    "id": "xTfQvqbXr9G1",
    "cell_id": "00000-54f2d147-8aad-4e33-afcc-9314a0acbc15",
    "deepnote_cell_type": "markdown",
    "deepnote_cell_height": 82
   }
  },
  {
   "cell_type": "markdown",
   "source": "## Linear",
   "metadata": {
    "id": "RAgvxOf_qm9m",
    "colab_type": "text",
    "cell_id": "00001-64ae805a-b4c1-4584-b041-1cd9a74df1c5",
    "deepnote_cell_type": "markdown",
    "deepnote_cell_height": 70
   }
  },
  {
   "cell_type": "code",
   "metadata": {
    "colab_type": "code",
    "id": "VohVqdqmr9G3",
    "colab": {},
    "cell_id": "00002-a7a0de70-619c-4ac5-ab40-d3374b62f6be",
    "deepnote_to_be_reexecuted": false,
    "source_hash": "8c09fcc7",
    "execution_start": 1657723568522,
    "execution_millis": 670,
    "deepnote_cell_type": "code",
    "deepnote_cell_height": 423
   },
   "source": "# Loading data\nimport pandas as pd\nimport numpy as np\nfrom matplotlib import pyplot as plt\n\n# Read data from Github\ndata_url = \"https://raw.githubusercontent.com/BeaverWorksMedlytics2020/Data_Public/master/NotebookExampleData/Week1/ex1data2.txt\"\ndata_array = np.genfromtxt(data_url, delimiter=',')\n\n# The columns in this data set are define as folows:\n\"\"\"\n    0 = floor area\n    1 = number of bedrooms\n    2 = sale price\n\"\"\"\n    \n# Store the relevant columns in more descriptive variables\nx_sqft = data_array[:,0]\nx_rooms = data_array[:,1]\ny_value = data_array[:,2]",
   "outputs": [],
   "execution_count": null
  },
  {
   "cell_type": "markdown",
   "source": "Here we'll build off of the tutorial exercise, first finding the best linear fit for floor area (sqft) vs valued price (USD). Recall that setting the derivative = 0 and solving for 𝑏 & 𝑚 produces formula for the best fit trend:\n$$ m = \\frac{\\sum^n_{i=1} (x_i-x_{mean})(y_i-y_{mean})}{\\sum^n_{i=1} (x_i-x_{mean})^2} $$\n$$ b = y_{mean}-m*x_{mean} $$",
   "metadata": {
    "colab_type": "text",
    "id": "bubHPtJ5r9G-",
    "cell_id": "00003-b01bcf9e-ff62-4e42-afcb-ef176f000e15",
    "deepnote_cell_type": "markdown",
    "deepnote_cell_height": 102.40625
   }
  },
  {
   "cell_type": "code",
   "metadata": {
    "colab_type": "code",
    "id": "HaPeEPN8r9HA",
    "colab": {},
    "cell_id": "00004-4545490b-af34-4688-80d9-4600f5ac9202",
    "deepnote_to_be_reexecuted": false,
    "source_hash": "d0ac2f0d",
    "execution_start": 1657723569197,
    "execution_millis": 5,
    "deepnote_cell_type": "code",
    "deepnote_cell_height": 369
   },
   "source": "def find_best_fit(xx,yy):\n    '''\n      This function finds the best linear fit for yy vs xx\n    '''\n    xmean = np.mean(xx)\n    ymean = np.mean(yy)\n    top = 0.0\n    bottom = 0.0\n    for i in range(0, len(xx)):\n        top += (xx[i]-xmean)*(yy[i]-ymean)\n        bottom += (xx[i] - xmean) * (xx[i] - xmean)\n    m = (top/bottom)\n    b = ymean - m * xmean\n    return (m, b)\n\n    # YOUR CODE HERE\n",
   "outputs": [],
   "execution_count": null
  },
  {
   "cell_type": "code",
   "metadata": {
    "colab_type": "code",
    "id": "mfZ7t4F9r9HH",
    "colab": {},
    "cell_id": "00005-f6683d67-0f6a-4987-8563-6c2be2b4d96a",
    "deepnote_to_be_reexecuted": false,
    "source_hash": "9b2b15d2",
    "execution_start": 1657723569204,
    "execution_millis": 5,
    "deepnote_cell_type": "code",
    "deepnote_cell_height": 165.6875
   },
   "source": "# Use your function to show the best fit values for our data\n(mm, bb) = find_best_fit(x_sqft, y_value)\nfit_str = 'y = {aa:.1f}x + {bb:.1f}'\nprint(fit_str.format(aa=mm,bb=bb))",
   "outputs": [
    {
     "name": "stdout",
     "text": "y = 134.5x + 71270.5\n",
     "output_type": "stream"
    }
   ],
   "execution_count": null
  },
  {
   "cell_type": "markdown",
   "source": "Now we have the best fit trend line that minimizes total error for our data, let's try plotting it and see what it looks like. Since its just an equation, we need to *sample* the curve in order to plot it. To do this, we'll find the difference between the largest and smallest floor area, and divide it into 100 sample points.",
   "metadata": {
    "colab_type": "text",
    "id": "jVYEfrpsr9HN",
    "cell_id": "00006-91d4b146-df2e-4bcf-af63-332049afb633",
    "deepnote_cell_type": "markdown",
    "deepnote_cell_height": 97.1875
   }
  },
  {
   "cell_type": "code",
   "metadata": {
    "colab_type": "code",
    "id": "dZARuzL7r9HO",
    "colab": {},
    "cell_id": "00007-e6b00473-e96d-4443-9d36-3d61e1bf97da",
    "deepnote_to_be_reexecuted": false,
    "source_hash": "76417257",
    "execution_start": 1657723569210,
    "execution_millis": 232,
    "deepnote_cell_type": "code",
    "deepnote_cell_height": 770.6875,
    "deepnote_output_heights": [
     21,
     250
    ]
   },
   "source": "# Plot the data\nplt.plot(x_sqft, y_value, 'ro')\n\n# Sample the range from minimum to maximum sqft to get 100 points\nmn = int(np.min(x_sqft))\nmx = int(np.max(x_sqft))\ndif = (mx - mn) / 100\nx = []\ny = []\nfor i in np.arange(mn, mx, dif):\n    x.append(i)\n    y.append(mm * i + bb)\nplt.plot(x, y)\n\nfor i in range(0, len(x_sqft)):\n    if x_sqft[i] == 1600:\n        print(y_value[i])\n\n\n# print(y_value[x_sqft.toList().index(1600)])\n\n# Apply the best fit equation to each sample point and plot the result",
   "outputs": [
    {
     "name": "stdout",
     "text": "329900.0\n",
     "output_type": "stream"
    },
    {
     "data": {
      "text/plain": "<Figure size 432x288 with 1 Axes>",
      "image/png": "[encoded data removed]"
     },
     "metadata": {
      "needs_background": "light",
      "image/png": {
       "width": 393,
       "height": 248
      }
     },
     "output_type": "display_data"
    }
   ],
   "execution_count": null
  },
  {
   "cell_type": "markdown",
   "source": "1: Given these parameters, how much should a house with 1600 sqft cost?\n\n$286470.50",
   "metadata": {
    "colab_type": "text",
    "id": "ywlWE2xtr9HU",
    "cell_id": "00008-c6508de2-a1ab-4853-8ed9-9cd10434795f",
    "deepnote_cell_type": "markdown",
    "deepnote_cell_height": 88.796875
   }
  },
  {
   "cell_type": "markdown",
   "source": "2: From the dataset, how much did a house with 1600 sqft actually cost?\n\n$329900.00",
   "metadata": {
    "colab_type": "text",
    "id": "J4rZ9L_Rr9HV",
    "cell_id": "00009-d04cbdf5-56be-4f7f-bdea-b78b67fa42d9",
    "deepnote_cell_type": "markdown",
    "deepnote_cell_height": 88.796875
   }
  },
  {
   "cell_type": "markdown",
   "source": "3: Assuming the current 1600 sqft house would sell for as much as the historical one, how much money would we have lost? What percentage of the total price is this?\n\n$43429.50 \n13.16%",
   "metadata": {
    "colab_type": "text",
    "id": "KTZMjw7rr9HW",
    "cell_id": "00010-bed6d3ea-4578-4812-9014-ad5d07e42f6d",
    "deepnote_cell_type": "markdown",
    "deepnote_cell_height": 111.1875
   }
  },
  {
   "cell_type": "markdown",
   "source": "Now compare the values for 𝑚 and 𝑏 that sklearn generated in the tutorial notebook with the values that you found just now with your function. Hopefully they match.",
   "metadata": {
    "colab_type": "text",
    "id": "UN9zGe6Mr9HY",
    "cell_id": "00011-970ae067-7dde-4eff-97fb-c053e85eddb1",
    "owner_user_id": "dfabe943-1737-4b40-a212-0d18b9783466",
    "deepnote_cell_type": "markdown",
    "deepnote_cell_height": 74.796875
   }
  },
  {
   "cell_type": "code",
   "metadata": {
    "colab_type": "code",
    "id": "CDw75BJrr9HZ",
    "colab": {},
    "cell_id": "00012-04c22e66-be2c-4952-a49d-a0589e58a023",
    "deepnote_to_be_reexecuted": false,
    "source_hash": "87c966f2",
    "execution_start": 1657723569445,
    "execution_millis": 8,
    "deepnote_cell_type": "code",
    "deepnote_cell_height": 149.390625
   },
   "source": "print(\"Sklearn:\",134.52528772, 71270.492448729)\nprint(\"My function:\",mm,bb)",
   "outputs": [
    {
     "name": "stdout",
     "text": "Sklearn: 134.52528772 71270.492448729\nMy function: 134.52528772024135 71270.49244872906\n",
     "output_type": "stream"
    }
   ],
   "execution_count": null
  },
  {
   "cell_type": "markdown",
   "source": "---\nRemember how despite adding an entire new variable, the $R^2$ value barely increased? Let's investigate this further by finding the correlation ($R^2$) value for a regression of square footage vs. number of bedrooms.",
   "metadata": {
    "colab_type": "text",
    "id": "L5R8SjF9r9Hf",
    "cell_id": "00013-f8640495-e786-4732-bdc4-edff3eba311b",
    "deepnote_cell_type": "markdown",
    "deepnote_cell_height": 75.796875
   }
  },
  {
   "cell_type": "code",
   "metadata": {
    "colab_type": "code",
    "id": "gMPm_HXgr9Hg",
    "colab": {},
    "cell_id": "00014-61ac4d80-9163-47ee-b2da-1d657cc52077",
    "deepnote_to_be_reexecuted": false,
    "source_hash": "26de6366",
    "execution_start": 1657723600744,
    "execution_millis": 123,
    "deepnote_cell_type": "code",
    "deepnote_cell_height": 347.390625
   },
   "source": "import sklearn.linear_model as lm\n\n# YOUR CODE HERE\n\nmodel = lm.LinearRegression()\nx_sqft_shaped = x_sqft.reshape(-1,1)\nhousepredictor_sqft = model.fit(x_sqft_shaped,y_value)\nprint(housepredictor_sqft.score(x_sqft_shaped,y_value))\nx_rooms_shaped = x_rooms.reshape(-1,1)\nhousepredictor_rooms = model.fit(x_rooms_shaped,y_value)\nprint(housepredictor_rooms.score(x_rooms_shaped,y_value))\n\n",
   "outputs": [
    {
     "name": "stdout",
     "text": "0.7310037839755306\n0.1955948956534046\n",
     "output_type": "stream"
    }
   ],
   "execution_count": null
  },
  {
   "cell_type": "markdown",
   "source": "Do 2 variables have to be verry correlated to reduce their effectiveness together?\n\nNo",
   "metadata": {
    "colab_type": "text",
    "id": "7QT8aPEQr9Hl",
    "cell_id": "00015-d3208db8-283e-47d8-bcd0-630d7958f77a",
    "deepnote_cell_type": "markdown",
    "deepnote_cell_height": 88.796875
   }
  },
  {
   "cell_type": "markdown",
   "source": "## Logistic",
   "metadata": {
    "colab_type": "text",
    "id": "HY_jT1uksAYu",
    "cell_id": "00016-4c0822c9-cb18-4193-a10d-acd737bfdfb2",
    "deepnote_cell_type": "markdown",
    "deepnote_cell_height": 70
   }
  },
  {
   "cell_type": "markdown",
   "source": "We are going to predict wheter or not someone has breast cancer using Logistic Regression on sklearn's breast cancer dataset. It is up to you to decide what features to get the best results.",
   "metadata": {
    "id": "bTR7FOhdqm_e",
    "colab_type": "text",
    "cell_id": "00017-1b373f19-5135-41be-86eb-dd00581e3c78",
    "deepnote_cell_type": "markdown",
    "deepnote_cell_height": 74.796875
   }
  },
  {
   "cell_type": "code",
   "metadata": {
    "colab_type": "code",
    "id": "Pg6kfm6VAdhN",
    "colab": {},
    "cell_id": "00018-d703d1de-62e7-4318-926b-f033ceb37124",
    "deepnote_to_be_reexecuted": false,
    "source_hash": "c36d08c7",
    "execution_start": 1657725310587,
    "execution_millis": 427,
    "owner_user_id": "75ed3cbf-2348-419b-a44e-516a93015780",
    "deepnote_cell_type": "code",
    "deepnote_cell_height": 1218.75,
    "deepnote_output_heights": [
     21.1875,
     353.1875,
     250
    ]
   },
   "source": "from sklearn.datasets import load_breast_cancer\nfrom sklearn.model_selection import train_test_split\nfrom sklearn.linear_model import LogisticRegression\nimport seaborn as sns\ndata = load_breast_cancer()\n\nX_cols = 'data'\nY_cols = 'target'\n\ntest_size = 0.15\nX_train, X_val, y_train, y_val = train_test_split(data[X_cols], data[Y_cols], test_size=test_size, random_state=1)\nlogreg = LogisticRegression()\nlogreg.fit(X_train, y_train)\n# y_train_pred=logreg.predict(X_train)\n# YOUR CODE HERE\n# print(data)\n# print(type(data))\n# print(data['feature_names'])\n# print(data.keys())\n# sns.distplot(data['data'])\n\n# calf_hous_df = pd.DataFrame(data= data.data, columns=data.feature_names)    \n# calf_hous_df.sample(10)",
   "outputs": [
    {
     "name": "stdout",
     "text": "<class 'sklearn.utils._bunch.Bunch'>\n/shared-libs/python3.9/py/lib/python3.9/site-packages/sklearn/linear_model/_logistic.py:444: ConvergenceWarning: lbfgs failed to converge (status=1):\nSTOP: TOTAL NO. of ITERATIONS REACHED LIMIT.\n\nIncrease the number of iterations (max_iter) or scale the data as shown in:\n    https://scikit-learn.org/stable/modules/preprocessing.html\nPlease also refer to the documentation for alternative solver options:\n    https://scikit-learn.org/stable/modules/linear_model.html#logistic-regression\n  n_iter_i = _check_optimize_result(\n",
     "output_type": "stream"
    },
    {
     "output_type": "execute_result",
     "execution_count": 37,
     "data": {
      "application/vnd.deepnote.dataframe.v3+json": {
       "column_count": 30,
       "row_count": 10,
       "columns": [
        {
         "name": "mean radius",
         "dtype": "float64",
         "stats": {
          "unique_count": 10,
          "nan_count": 0,
          "min": "8.597",
          "max": "20.64",
          "histogram": [
           {
            "bin_start": 8.597,
            "bin_end": 9.8013,
            "count": 1
           },
           {
            "bin_start": 9.8013,
            "bin_end": 11.0056,
            "count": 1
           },
           {
            "bin_start": 11.0056,
            "bin_end": 12.209900000000001,
            "count": 1
           },
           {
            "bin_start": 12.209900000000001,
            "bin_end": 13.414200000000001,
            "count": 4
           },
           {
            "bin_start": 13.414200000000001,
            "bin_end": 14.618500000000001,
            "count": 1
           },
           {
            "bin_start": 14.618500000000001,
            "bin_end": 15.8228,
            "count": 0
           },
           {
            "bin_start": 15.8228,
            "bin_end": 17.0271,
            "count": 0
           },
           {
            "bin_start": 17.0271,
            "bin_end": 18.2314,
            "count": 0
           },
           {
            "bin_start": 18.2314,
            "bin_end": 19.4357,
            "count": 1
           },
           {
            "bin_start": 19.4357,
            "bin_end": 20.64,
            "count": 1
           }
          ]
         }
        },
        {
         "name": "mean texture",
         "dtype": "float64",
         "stats": {
          "unique_count": 10,
          "nan_count": 0,
          "min": "13.98",
          "max": "21.43",
          "histogram": [
           {
            "bin_start": 13.98,
            "bin_end": 14.725,
            "count": 1
           },
           {
            "bin_start": 14.725,
            "bin_end": 15.47,
            "count": 1
           },
           {
            "bin_start": 15.47,
            "bin_end": 16.215,
            "count": 2
           },
           {
            "bin_start": 16.215,
            "bin_end": 16.96,
            "count": 0
           },
           {
            "bin_start": 16.96,
            "bin_end": 17.705,
            "count": 3
           },
           {
            "bin_start": 17.705,
            "bin_end": 18.45,
            "count": 0
           },
           {
            "bin_start": 18.45,
            "bin_end": 19.195,
            "count": 2
           },
           {
            "bin_start": 19.195,
            "bin_end": 19.939999999999998,
            "count": 0
           },
           {
            "bin_start": 19.939999999999998,
            "bin_end": 20.685,
            "count": 0
           },
           {
            "bin_start": 20.685,
            "bin_end": 21.43,
            "count": 1
           }
          ]
         }
        },
        {
         "name": "mean perimeter",
         "dtype": "float64",
         "stats": {
          "unique_count": 10,
          "nan_count": 0,
          "min": "54.09",
          "max": "134.8",
          "histogram": [
           {
            "bin_start": 54.09,
            "bin_end": 62.161,
            "count": 1
           },
           {
            "bin_start": 62.161,
            "bin_end": 70.232,
            "count": 1
           },
           {
            "bin_start": 70.232,
            "bin_end": 78.30300000000001,
            "count": 1
           },
           {
            "bin_start": 78.30300000000001,
            "bin_end": 86.37400000000001,
            "count": 4
           },
           {
            "bin_start": 86.37400000000001,
            "bin_end": 94.44500000000001,
            "count": 1
           },
           {
            "bin_start": 94.44500000000001,
            "bin_end": 102.51600000000002,
            "count": 0
           },
           {
            "bin_start": 102.51600000000002,
            "bin_end": 110.58700000000002,
            "count": 0
           },
           {
            "bin_start": 110.58700000000002,
            "bin_end": 118.65800000000002,
            "count": 0
           },
           {
            "bin_start": 118.65800000000002,
            "bin_end": 126.72900000000001,
            "count": 1
           },
           {
            "bin_start": 126.72900000000001,
            "bin_end": 134.8,
            "count": 1
           }
          ]
         }
        },
        {
         "name": "mean area",
         "dtype": "float64",
         "stats": {
          "unique_count": 10,
          "nan_count": 0,
          "min": "221.2",
          "max": "1335.0",
          "histogram": [
           {
            "bin_start": 221.2,
            "bin_end": 332.58,
            "count": 2
           },
           {
            "bin_start": 332.58,
            "bin_end": 443.96,
            "count": 1
           },
           {
            "bin_start": 443.96,
            "bin_end": 555.3399999999999,
            "count": 4
           },
           {
            "bin_start": 555.3399999999999,
            "bin_end": 666.72,
            "count": 1
           },
           {
            "bin_start": 666.72,
            "bin_end": 778.0999999999999,
            "count": 0
           },
           {
            "bin_start": 778.0999999999999,
            "bin_end": 889.48,
            "count": 0
           },
           {
            "bin_start": 889.48,
            "bin_end": 1000.8599999999999,
            "count": 0
           },
           {
            "bin_start": 1000.8599999999999,
            "bin_end": 1112.24,
            "count": 1
           },
           {
            "bin_start": 1112.24,
            "bin_end": 1223.62,
            "count": 0
           },
           {
            "bin_start": 1223.62,
            "bin_end": 1335,
            "count": 1
           }
          ]
         }
        },
        {
         "name": "mean smoothness",
         "dtype": "float64",
         "stats": {
          "unique_count": 10,
          "nan_count": 0,
          "min": "0.07926",
          "max": "0.1099",
          "histogram": [
           {
            "bin_start": 0.07926,
            "bin_end": 0.082324,
            "count": 2
           },
           {
            "bin_start": 0.082324,
            "bin_end": 0.08538799999999999,
            "count": 1
           },
           {
            "bin_start": 0.08538799999999999,
            "bin_end": 0.088452,
            "count": 0
           },
           {
            "bin_start": 0.088452,
            "bin_end": 0.091516,
            "count": 1
           },
           {
            "bin_start": 0.091516,
            "bin_end": 0.09458,
            "count": 1
           },
           {
            "bin_start": 0.09458,
            "bin_end": 0.097644,
            "count": 1
           },
           {
            "bin_start": 0.097644,
            "bin_end": 0.10070799999999999,
            "count": 0
           },
           {
            "bin_start": 0.10070799999999999,
            "bin_end": 0.103772,
            "count": 0
           },
           {
            "bin_start": 0.103772,
            "bin_end": 0.106836,
            "count": 2
           },
           {
            "bin_start": 0.106836,
            "bin_end": 0.1099,
            "count": 2
           }
          ]
         }
        },
        {
         "name": "mean compactness",
         "dtype": "float64",
         "stats": {
          "unique_count": 10,
          "nan_count": 0,
          "min": "0.03393",
          "max": "0.1402",
          "histogram": [
           {
            "bin_start": 0.03393,
            "bin_end": 0.044557,
            "count": 1
           },
           {
            "bin_start": 0.044557,
            "bin_end": 0.055184,
            "count": 2
           },
           {
            "bin_start": 0.055184,
            "bin_end": 0.06581100000000001,
            "count": 1
           },
           {
            "bin_start": 0.06581100000000001,
            "bin_end": 0.076438,
            "count": 1
           },
           {
            "bin_start": 0.076438,
            "bin_end": 0.087065,
            "count": 1
           },
           {
            "bin_start": 0.087065,
            "bin_end": 0.097692,
            "count": 1
           },
           {
            "bin_start": 0.097692,
            "bin_end": 0.108319,
            "count": 1
           },
           {
            "bin_start": 0.108319,
            "bin_end": 0.118946,
            "count": 0
           },
           {
            "bin_start": 0.118946,
            "bin_end": 0.129573,
            "count": 0
           },
           {
            "bin_start": 0.129573,
            "bin_end": 0.1402,
            "count": 2
           }
          ]
         }
        },
        {
         "name": "mean concavity",
         "dtype": "float64",
         "stats": {
          "unique_count": 10,
          "nan_count": 0,
          "min": "0.0",
          "max": "0.1527",
          "histogram": [
           {
            "bin_start": 0,
            "bin_end": 0.01527,
            "count": 3
           },
           {
            "bin_start": 0.01527,
            "bin_end": 0.03054,
            "count": 2
           },
           {
            "bin_start": 0.03054,
            "bin_end": 0.045810000000000003,
            "count": 1
           },
           {
            "bin_start": 0.045810000000000003,
            "bin_end": 0.06108,
            "count": 1
           },
           {
            "bin_start": 0.06108,
            "bin_end": 0.07635,
            "count": 1
           },
           {
            "bin_start": 0.07635,
            "bin_end": 0.09162000000000001,
            "count": 0
           },
           {
            "bin_start": 0.09162000000000001,
            "bin_end": 0.10689,
            "count": 1
           },
           {
            "bin_start": 0.10689,
            "bin_end": 0.12216,
            "count": 0
           },
           {
            "bin_start": 0.12216,
            "bin_end": 0.13743,
            "count": 0
           },
           {
            "bin_start": 0.13743,
            "bin_end": 0.1527,
            "count": 1
           }
          ]
         }
        },
        {
         "name": "mean concave points",
         "dtype": "float64",
         "stats": {
          "unique_count": 10,
          "nan_count": 0,
          "min": "0.0",
          "max": "0.08941",
          "histogram": [
           {
            "bin_start": 0,
            "bin_end": 0.008941000000000001,
            "count": 2
           },
           {
            "bin_start": 0.008941000000000001,
            "bin_end": 0.017882000000000002,
            "count": 2
           },
           {
            "bin_start": 0.017882000000000002,
            "bin_end": 0.026823000000000003,
            "count": 2
           },
           {
            "bin_start": 0.026823000000000003,
            "bin_end": 0.035764000000000004,
            "count": 1
           },
           {
            "bin_start": 0.035764000000000004,
            "bin_end": 0.04470500000000001,
            "count": 0
           },
           {
            "bin_start": 0.04470500000000001,
            "bin_end": 0.053646000000000006,
            "count": 0
           },
           {
            "bin_start": 0.053646000000000006,
            "bin_end": 0.062587,
            "count": 1
           },
           {
            "bin_start": 0.062587,
            "bin_end": 0.07152800000000001,
            "count": 1
           },
           {
            "bin_start": 0.07152800000000001,
            "bin_end": 0.08046900000000001,
            "count": 0
           },
           {
            "bin_start": 0.08046900000000001,
            "bin_end": 0.08941,
            "count": 1
           }
          ]
         }
        },
        {
         "name": "mean symmetry",
         "dtype": "float64",
         "stats": {
          "unique_count": 10,
          "nan_count": 0,
          "min": "0.1546",
          "max": "0.2163",
          "histogram": [
           {
            "bin_start": 0.1546,
            "bin_end": 0.16077,
            "count": 2
           },
           {
            "bin_start": 0.16077,
            "bin_end": 0.16693999999999998,
            "count": 3
           },
           {
            "bin_start": 0.16693999999999998,
            "bin_end": 0.17310999999999999,
            "count": 0
           },
           {
            "bin_start": 0.17310999999999999,
            "bin_end": 0.17928,
            "count": 1
           },
           {
            "bin_start": 0.17928,
            "bin_end": 0.18545,
            "count": 0
           },
           {
            "bin_start": 0.18545,
            "bin_end": 0.19161999999999998,
            "count": 1
           },
           {
            "bin_start": 0.19161999999999998,
            "bin_end": 0.19779,
            "count": 2
           },
           {
            "bin_start": 0.19779,
            "bin_end": 0.20395999999999997,
            "count": 0
           },
           {
            "bin_start": 0.20395999999999997,
            "bin_end": 0.21012999999999998,
            "count": 0
           },
           {
            "bin_start": 0.21012999999999998,
            "bin_end": 0.2163,
            "count": 1
           }
          ]
         }
        },
        {
         "name": "mean fractal dimension",
         "dtype": "float64",
         "stats": {
          "unique_count": 10,
          "nan_count": 0,
          "min": "0.05474",
          "max": "0.07359",
          "histogram": [
           {
            "bin_start": 0.05474,
            "bin_end": 0.056624999999999995,
            "count": 2
           },
           {
            "bin_start": 0.056624999999999995,
            "bin_end": 0.05851,
            "count": 1
           },
           {
            "bin_start": 0.05851,
            "bin_end": 0.060395,
            "count": 2
           },
           {
            "bin_start": 0.060395,
            "bin_end": 0.06228,
            "count": 2
           },
           {
            "bin_start": 0.06228,
            "bin_end": 0.064165,
            "count": 0
           },
           {
            "bin_start": 0.064165,
            "bin_end": 0.06605,
            "count": 1
           },
           {
            "bin_start": 0.06605,
            "bin_end": 0.067935,
            "count": 0
           },
           {
            "bin_start": 0.067935,
            "bin_end": 0.06982000000000001,
            "count": 1
           },
           {
            "bin_start": 0.06982000000000001,
            "bin_end": 0.071705,
            "count": 0
           },
           {
            "bin_start": 0.071705,
            "bin_end": 0.07359,
            "count": 1
           }
          ]
         }
        },
        {
         "name": "radius error",
         "dtype": "float64",
         "stats": {
          "unique_count": 10,
          "nan_count": 0,
          "min": "0.1153",
          "max": "0.6422",
          "histogram": [
           {
            "bin_start": 0.1153,
            "bin_end": 0.16799,
            "count": 1
           },
           {
            "bin_start": 0.16799,
            "bin_end": 0.22068,
            "count": 1
           },
           {
            "bin_start": 0.22068,
            "bin_end": 0.27337,
            "count": 3
           },
           {
            "bin_start": 0.27337,
            "bin_end": 0.32606,
            "count": 2
           },
           {
            "bin_start": 0.32606,
            "bin_end": 0.37875000000000003,
            "count": 1
           },
           {
            "bin_start": 0.37875000000000003,
            "bin_end": 0.43144,
            "count": 0
           },
           {
            "bin_start": 0.43144,
            "bin_end": 0.48413,
            "count": 0
           },
           {
            "bin_start": 0.48413,
            "bin_end": 0.53682,
            "count": 0
           },
           {
            "bin_start": 0.53682,
            "bin_end": 0.58951,
            "count": 0
           },
           {
            "bin_start": 0.58951,
            "bin_end": 0.6422,
            "count": 2
           }
          ]
         }
        },
        {
         "name": "texture error",
         "dtype": "float64",
         "stats": {
          "unique_count": 10,
          "nan_count": 0,
          "min": "0.5735",
          "max": "2.777",
          "histogram": [
           {
            "bin_start": 0.5735,
            "bin_end": 0.79385,
            "count": 4
           },
           {
            "bin_start": 0.79385,
            "bin_end": 1.0142,
            "count": 3
           },
           {
            "bin_start": 1.0142,
            "bin_end": 1.23455,
            "count": 1
           },
           {
            "bin_start": 1.23455,
            "bin_end": 1.4548999999999999,
            "count": 0
           },
           {
            "bin_start": 1.4548999999999999,
            "bin_end": 1.6752500000000001,
            "count": 1
           },
           {
            "bin_start": 1.6752500000000001,
            "bin_end": 1.8956,
            "count": 0
           },
           {
            "bin_start": 1.8956,
            "bin_end": 2.1159499999999998,
            "count": 0
           },
           {
            "bin_start": 2.1159499999999998,
            "bin_end": 2.3363,
            "count": 0
           },
           {
            "bin_start": 2.3363,
            "bin_end": 2.55665,
            "count": 0
           },
           {
            "bin_start": 2.55665,
            "bin_end": 2.777,
            "count": 1
           }
          ]
         }
        },
        {
         "name": "perimeter error",
         "dtype": "float64",
         "stats": {
          "unique_count": 10,
          "nan_count": 0,
          "min": "0.757",
          "max": "4.369",
          "histogram": [
           {
            "bin_start": 0.757,
            "bin_end": 1.1181999999999999,
            "count": 1
           },
           {
            "bin_start": 1.1181999999999999,
            "bin_end": 1.4794,
            "count": 1
           },
           {
            "bin_start": 1.4794,
            "bin_end": 1.8405999999999998,
            "count": 2
           },
           {
            "bin_start": 1.8405999999999998,
            "bin_end": 2.2018,
            "count": 3
           },
           {
            "bin_start": 2.2018,
            "bin_end": 2.5629999999999997,
            "count": 1
           },
           {
            "bin_start": 2.5629999999999997,
            "bin_end": 2.9242,
            "count": 0
           },
           {
            "bin_start": 2.9242,
            "bin_end": 3.2853999999999997,
            "count": 0
           },
           {
            "bin_start": 3.2853999999999997,
            "bin_end": 3.6466,
            "count": 0
           },
           {
            "bin_start": 3.6466,
            "bin_end": 4.0078,
            "count": 0
           },
           {
            "bin_start": 4.0078,
            "bin_end": 4.369,
            "count": 2
           }
          ]
         }
        },
        {
         "name": "area error",
         "dtype": "float64",
         "stats": {
          "unique_count": 10,
          "nan_count": 0,
          "min": "9.006",
          "max": "88.25",
          "histogram": [
           {
            "bin_start": 9.006,
            "bin_end": 16.9304,
            "count": 3
           },
           {
            "bin_start": 16.9304,
            "bin_end": 24.8548,
            "count": 4
           },
           {
            "bin_start": 24.8548,
            "bin_end": 32.7792,
            "count": 1
           },
           {
            "bin_start": 32.7792,
            "bin_end": 40.7036,
            "count": 0
           },
           {
            "bin_start": 40.7036,
            "bin_end": 48.628,
            "count": 0
           },
           {
            "bin_start": 48.628,
            "bin_end": 56.552400000000006,
            "count": 0
           },
           {
            "bin_start": 56.552400000000006,
            "bin_end": 64.4768,
            "count": 0
           },
           {
            "bin_start": 64.4768,
            "bin_end": 72.4012,
            "count": 0
           },
           {
            "bin_start": 72.4012,
            "bin_end": 80.32560000000001,
            "count": 1
           },
           {
            "bin_start": 80.32560000000001,
            "bin_end": 88.25,
            "count": 1
           }
          ]
         }
        },
        {
         "name": "smoothness error",
         "dtype": "float64",
         "stats": {
          "unique_count": 10,
          "nan_count": 0,
          "min": "0.003265",
          "max": "0.02075",
          "histogram": [
           {
            "bin_start": 0.003265,
            "bin_end": 0.005013500000000001,
            "count": 2
           },
           {
            "bin_start": 0.005013500000000001,
            "bin_end": 0.006762000000000001,
            "count": 4
           },
           {
            "bin_start": 0.006762000000000001,
            "bin_end": 0.0085105,
            "count": 3
           },
           {
            "bin_start": 0.0085105,
            "bin_end": 0.010259,
            "count": 0
           },
           {
            "bin_start": 0.010259,
            "bin_end": 0.0120075,
            "count": 0
           },
           {
            "bin_start": 0.0120075,
            "bin_end": 0.013756,
            "count": 0
           },
           {
            "bin_start": 0.013756,
            "bin_end": 0.015504500000000001,
            "count": 0
           },
           {
            "bin_start": 0.015504500000000001,
            "bin_end": 0.017253,
            "count": 0
           },
           {
            "bin_start": 0.017253,
            "bin_end": 0.0190015,
            "count": 0
           },
           {
            "bin_start": 0.0190015,
            "bin_end": 0.02075,
            "count": 1
           }
          ]
         }
        },
        {
         "name": "compactness error",
         "dtype": "float64",
         "stats": {
          "unique_count": 10,
          "nan_count": 0,
          "min": "0.00493",
          "max": "0.03897",
          "histogram": [
           {
            "bin_start": 0.00493,
            "bin_end": 0.008334000000000001,
            "count": 2
           },
           {
            "bin_start": 0.008334000000000001,
            "bin_end": 0.011738,
            "count": 1
           },
           {
            "bin_start": 0.011738,
            "bin_end": 0.015142,
            "count": 3
           },
           {
            "bin_start": 0.015142,
            "bin_end": 0.018546,
            "count": 0
           },
           {
            "bin_start": 0.018546,
            "bin_end": 0.02195,
            "count": 1
           },
           {
            "bin_start": 0.02195,
            "bin_end": 0.025353999999999998,
            "count": 1
           },
           {
            "bin_start": 0.025353999999999998,
            "bin_end": 0.028758,
            "count": 0
           },
           {
            "bin_start": 0.028758,
            "bin_end": 0.032161999999999996,
            "count": 0
           },
           {
            "bin_start": 0.032161999999999996,
            "bin_end": 0.035566,
            "count": 0
           },
           {
            "bin_start": 0.035566,
            "bin_end": 0.03897,
            "count": 2
           }
          ]
         }
        },
        {
         "name": "concavity error",
         "dtype": "float64",
         "stats": {
          "unique_count": 10,
          "nan_count": 0,
          "min": "0.0",
          "max": "0.04757",
          "histogram": [
           {
            "bin_start": 0,
            "bin_end": 0.004757,
            "count": 2
           },
           {
            "bin_start": 0.004757,
            "bin_end": 0.009514,
            "count": 2
           },
           {
            "bin_start": 0.009514,
            "bin_end": 0.014270999999999999,
            "count": 1
           },
           {
            "bin_start": 0.014270999999999999,
            "bin_end": 0.019028,
            "count": 1
           },
           {
            "bin_start": 0.019028,
            "bin_end": 0.023785,
            "count": 1
           },
           {
            "bin_start": 0.023785,
            "bin_end": 0.028541999999999998,
            "count": 1
           },
           {
            "bin_start": 0.028541999999999998,
            "bin_end": 0.033299,
            "count": 0
           },
           {
            "bin_start": 0.033299,
            "bin_end": 0.038056,
            "count": 0
           },
           {
            "bin_start": 0.038056,
            "bin_end": 0.042813,
            "count": 1
           },
           {
            "bin_start": 0.042813,
            "bin_end": 0.04757,
            "count": 1
           }
          ]
         }
        },
        {
         "name": "concave points error",
         "dtype": "float64",
         "stats": {
          "unique_count": 10,
          "nan_count": 0,
          "min": "0.0",
          "max": "0.01816",
          "histogram": [
           {
            "bin_start": 0,
            "bin_end": 0.001816,
            "count": 1
           },
           {
            "bin_start": 0.001816,
            "bin_end": 0.003632,
            "count": 1
           },
           {
            "bin_start": 0.003632,
            "bin_end": 0.005448,
            "count": 1
           },
           {
            "bin_start": 0.005448,
            "bin_end": 0.007264,
            "count": 1
           },
           {
            "bin_start": 0.007264,
            "bin_end": 0.00908,
            "count": 2
           },
           {
            "bin_start": 0.00908,
            "bin_end": 0.010896,
            "count": 1
           },
           {
            "bin_start": 0.010896,
            "bin_end": 0.012712,
            "count": 2
           },
           {
            "bin_start": 0.012712,
            "bin_end": 0.014528,
            "count": 0
           },
           {
            "bin_start": 0.014528,
            "bin_end": 0.016343999999999997,
            "count": 0
           },
           {
            "bin_start": 0.016343999999999997,
            "bin_end": 0.01816,
            "count": 1
           }
          ]
         }
        },
        {
         "name": "symmetry error",
         "dtype": "float64",
         "stats": {
          "unique_count": 10,
          "nan_count": 0,
          "min": "0.01276",
          "max": "0.06146",
          "histogram": [
           {
            "bin_start": 0.01276,
            "bin_end": 0.01763,
            "count": 3
           },
           {
            "bin_start": 0.01763,
            "bin_end": 0.0225,
            "count": 4
           },
           {
            "bin_start": 0.0225,
            "bin_end": 0.027370000000000002,
            "count": 1
           },
           {
            "bin_start": 0.027370000000000002,
            "bin_end": 0.032240000000000005,
            "count": 1
           },
           {
            "bin_start": 0.032240000000000005,
            "bin_end": 0.037110000000000004,
            "count": 0
           },
           {
            "bin_start": 0.037110000000000004,
            "bin_end": 0.04198,
            "count": 0
           },
           {
            "bin_start": 0.04198,
            "bin_end": 0.04685,
            "count": 0
           },
           {
            "bin_start": 0.04685,
            "bin_end": 0.05172,
            "count": 0
           },
           {
            "bin_start": 0.05172,
            "bin_end": 0.05659,
            "count": 0
           },
           {
            "bin_start": 0.05659,
            "bin_end": 0.06146,
            "count": 1
           }
          ]
         }
        },
        {
         "name": "fractal dimension error",
         "dtype": "float64",
         "stats": {
          "unique_count": 10,
          "nan_count": 0,
          "min": "0.00136",
          "max": "0.006884",
          "histogram": [
           {
            "bin_start": 0.00136,
            "bin_end": 0.0019124,
            "count": 3
           },
           {
            "bin_start": 0.0019124,
            "bin_end": 0.0024648,
            "count": 1
           },
           {
            "bin_start": 0.0024648,
            "bin_end": 0.0030172000000000003,
            "count": 1
           },
           {
            "bin_start": 0.0030172000000000003,
            "bin_end": 0.0035696,
            "count": 1
           },
           {
            "bin_start": 0.0035696,
            "bin_end": 0.004122,
            "count": 1
           },
           {
            "bin_start": 0.004122,
            "bin_end": 0.0046744,
            "count": 1
           },
           {
            "bin_start": 0.0046744,
            "bin_end": 0.0052268,
            "count": 0
           },
           {
            "bin_start": 0.0052268,
            "bin_end": 0.0057792,
            "count": 0
           },
           {
            "bin_start": 0.0057792,
            "bin_end": 0.0063316,
            "count": 0
           },
           {
            "bin_start": 0.0063316,
            "bin_end": 0.006884,
            "count": 2
           }
          ]
         }
        },
        {
         "name": "worst radius",
         "dtype": "float64",
         "stats": {
          "unique_count": 10,
          "nan_count": 0,
          "min": "8.952",
          "max": "25.37",
          "histogram": [
           {
            "bin_start": 8.952,
            "bin_end": 10.5938,
            "count": 1
           },
           {
            "bin_start": 10.5938,
            "bin_end": 12.2356,
            "count": 1
           },
           {
            "bin_start": 12.2356,
            "bin_end": 13.8774,
            "count": 3
           },
           {
            "bin_start": 13.8774,
            "bin_end": 15.5192,
            "count": 2
           },
           {
            "bin_start": 15.5192,
            "bin_end": 17.161,
            "count": 1
           },
           {
            "bin_start": 17.161,
            "bin_end": 18.802799999999998,
            "count": 0
           },
           {
            "bin_start": 18.802799999999998,
            "bin_end": 20.4446,
            "count": 0
           },
           {
            "bin_start": 20.4446,
            "bin_end": 22.086399999999998,
            "count": 0
           },
           {
            "bin_start": 22.086399999999998,
            "bin_end": 23.7282,
            "count": 0
           },
           {
            "bin_start": 23.7282,
            "bin_end": 25.37,
            "count": 2
           }
          ]
         }
        },
        {
         "name": "worst texture",
         "dtype": "float64",
         "stats": {
          "unique_count": 10,
          "nan_count": 0,
          "min": "16.93",
          "max": "34.37",
          "histogram": [
           {
            "bin_start": 16.93,
            "bin_end": 18.674,
            "count": 1
           },
           {
            "bin_start": 18.674,
            "bin_end": 20.418,
            "count": 2
           },
           {
            "bin_start": 20.418,
            "bin_end": 22.162,
            "count": 1
           },
           {
            "bin_start": 22.162,
            "bin_end": 23.906,
            "count": 5
           },
           {
            "bin_start": 23.906,
            "bin_end": 25.65,
            "count": 0
           },
           {
            "bin_start": 25.65,
            "bin_end": 27.394,
            "count": 0
           },
           {
            "bin_start": 27.394,
            "bin_end": 29.137999999999998,
            "count": 0
           },
           {
            "bin_start": 29.137999999999998,
            "bin_end": 30.881999999999998,
            "count": 0
           },
           {
            "bin_start": 30.881999999999998,
            "bin_end": 32.626,
            "count": 0
           },
           {
            "bin_start": 32.626,
            "bin_end": 34.37,
            "count": 1
           }
          ]
         }
        },
        {
         "name": "worst perimeter",
         "dtype": "float64",
         "stats": {
          "unique_count": 10,
          "nan_count": 0,
          "min": "56.65",
          "max": "166.8",
          "histogram": [
           {
            "bin_start": 56.65,
            "bin_end": 67.66499999999999,
            "count": 1
           },
           {
            "bin_start": 67.66499999999999,
            "bin_end": 78.68,
            "count": 1
           },
           {
            "bin_start": 78.68,
            "bin_end": 89.695,
            "count": 3
           },
           {
            "bin_start": 89.695,
            "bin_end": 100.71000000000001,
            "count": 2
           },
           {
            "bin_start": 100.71000000000001,
            "bin_end": 111.725,
            "count": 1
           },
           {
            "bin_start": 111.725,
            "bin_end": 122.74000000000001,
            "count": 0
           },
           {
            "bin_start": 122.74000000000001,
            "bin_end": 133.755,
            "count": 0
           },
           {
            "bin_start": 133.755,
            "bin_end": 144.77,
            "count": 0
           },
           {
            "bin_start": 144.77,
            "bin_end": 155.785,
            "count": 0
           },
           {
            "bin_start": 155.785,
            "bin_end": 166.8,
            "count": 2
           }
          ]
         }
        },
        {
         "name": "worst area",
         "dtype": "float64",
         "stats": {
          "unique_count": 10,
          "nan_count": 0,
          "min": "240.1",
          "max": "1946.0",
          "histogram": [
           {
            "bin_start": 240.1,
            "bin_end": 410.69,
            "count": 2
           },
           {
            "bin_start": 410.69,
            "bin_end": 581.28,
            "count": 3
           },
           {
            "bin_start": 581.28,
            "bin_end": 751.87,
            "count": 3
           },
           {
            "bin_start": 751.87,
            "bin_end": 922.46,
            "count": 0
           },
           {
            "bin_start": 922.46,
            "bin_end": 1093.05,
            "count": 0
           },
           {
            "bin_start": 1093.05,
            "bin_end": 1263.6399999999999,
            "count": 0
           },
           {
            "bin_start": 1263.6399999999999,
            "bin_end": 1434.23,
            "count": 0
           },
           {
            "bin_start": 1434.23,
            "bin_end": 1604.82,
            "count": 0
           },
           {
            "bin_start": 1604.82,
            "bin_end": 1775.4099999999999,
            "count": 0
           },
           {
            "bin_start": 1775.4099999999999,
            "bin_end": 1946,
            "count": 2
           }
          ]
         }
        },
        {
         "name": "worst smoothness",
         "dtype": "float64",
         "stats": {
          "unique_count": 9,
          "nan_count": 0,
          "min": "0.1037",
          "max": "0.1562",
          "histogram": [
           {
            "bin_start": 0.1037,
            "bin_end": 0.10895,
            "count": 1
           },
           {
            "bin_start": 0.10895,
            "bin_end": 0.1142,
            "count": 2
           },
           {
            "bin_start": 0.1142,
            "bin_end": 0.11945,
            "count": 0
           },
           {
            "bin_start": 0.11945,
            "bin_end": 0.1247,
            "count": 0
           },
           {
            "bin_start": 0.1247,
            "bin_end": 0.12995,
            "count": 1
           },
           {
            "bin_start": 0.12995,
            "bin_end": 0.1352,
            "count": 2
           },
           {
            "bin_start": 0.1352,
            "bin_end": 0.14045000000000002,
            "count": 0
           },
           {
            "bin_start": 0.14045000000000002,
            "bin_end": 0.1457,
            "count": 2
           },
           {
            "bin_start": 0.1457,
            "bin_end": 0.15095,
            "count": 1
           },
           {
            "bin_start": 0.15095,
            "bin_end": 0.1562,
            "count": 1
           }
          ]
         }
        },
        {
         "name": "worst compactness",
         "dtype": "float64",
         "stats": {
          "unique_count": 10,
          "nan_count": 0,
          "min": "0.07767",
          "max": "0.4827",
          "histogram": [
           {
            "bin_start": 0.07767,
            "bin_end": 0.118173,
            "count": 3
           },
           {
            "bin_start": 0.118173,
            "bin_end": 0.15867599999999998,
            "count": 3
           },
           {
            "bin_start": 0.15867599999999998,
            "bin_end": 0.199179,
            "count": 1
           },
           {
            "bin_start": 0.199179,
            "bin_end": 0.239682,
            "count": 0
           },
           {
            "bin_start": 0.239682,
            "bin_end": 0.280185,
            "count": 0
           },
           {
            "bin_start": 0.280185,
            "bin_end": 0.320688,
            "count": 1
           },
           {
            "bin_start": 0.320688,
            "bin_end": 0.361191,
            "count": 1
           },
           {
            "bin_start": 0.361191,
            "bin_end": 0.401694,
            "count": 0
           },
           {
            "bin_start": 0.401694,
            "bin_end": 0.442197,
            "count": 0
           },
           {
            "bin_start": 0.442197,
            "bin_end": 0.4827,
            "count": 1
           }
          ]
         }
        },
        {
         "name": "worst concavity",
         "dtype": "float64",
         "stats": {
          "unique_count": 10,
          "nan_count": 0,
          "min": "0.0",
          "max": "0.4634",
          "histogram": [
           {
            "bin_start": 0,
            "bin_end": 0.04634,
            "count": 2
           },
           {
            "bin_start": 0.04634,
            "bin_end": 0.09268,
            "count": 3
           },
           {
            "bin_start": 0.09268,
            "bin_end": 0.13902,
            "count": 1
           },
           {
            "bin_start": 0.13902,
            "bin_end": 0.18536,
            "count": 1
           },
           {
            "bin_start": 0.18536,
            "bin_end": 0.2317,
            "count": 0
           },
           {
            "bin_start": 0.2317,
            "bin_end": 0.27804,
            "count": 0
           },
           {
            "bin_start": 0.27804,
            "bin_end": 0.32438,
            "count": 1
           },
           {
            "bin_start": 0.32438,
            "bin_end": 0.37072,
            "count": 0
           },
           {
            "bin_start": 0.37072,
            "bin_end": 0.41706,
            "count": 1
           },
           {
            "bin_start": 0.41706,
            "bin_end": 0.4634,
            "count": 1
           }
          ]
         }
        },
        {
         "name": "worst concave points",
         "dtype": "float64",
         "stats": {
          "unique_count": 10,
          "nan_count": 0,
          "min": "0.0",
          "max": "0.2112",
          "histogram": [
           {
            "bin_start": 0,
            "bin_end": 0.02112,
            "count": 1
           },
           {
            "bin_start": 0.02112,
            "bin_end": 0.04224,
            "count": 2
           },
           {
            "bin_start": 0.04224,
            "bin_end": 0.06336,
            "count": 3
           },
           {
            "bin_start": 0.06336,
            "bin_end": 0.08448,
            "count": 0
           },
           {
            "bin_start": 0.08448,
            "bin_end": 0.1056,
            "count": 1
           },
           {
            "bin_start": 0.1056,
            "bin_end": 0.12672,
            "count": 1
           },
           {
            "bin_start": 0.12672,
            "bin_end": 0.14784,
            "count": 0
           },
           {
            "bin_start": 0.14784,
            "bin_end": 0.16896,
            "count": 0
           },
           {
            "bin_start": 0.16896,
            "bin_end": 0.19008,
            "count": 0
           },
           {
            "bin_start": 0.19008,
            "bin_end": 0.2112,
            "count": 2
           }
          ]
         }
        },
        {
         "name": "worst symmetry",
         "dtype": "float64",
         "stats": {
          "unique_count": 10,
          "nan_count": 0,
          "min": "0.2482",
          "max": "0.3679",
          "histogram": [
           {
            "bin_start": 0.2482,
            "bin_end": 0.26017,
            "count": 1
           },
           {
            "bin_start": 0.26017,
            "bin_end": 0.27214,
            "count": 3
           },
           {
            "bin_start": 0.27214,
            "bin_end": 0.28411,
            "count": 1
           },
           {
            "bin_start": 0.28411,
            "bin_end": 0.29608,
            "count": 1
           },
           {
            "bin_start": 0.29608,
            "bin_end": 0.30805,
            "count": 1
           },
           {
            "bin_start": 0.30805,
            "bin_end": 0.32001999999999997,
            "count": 1
           },
           {
            "bin_start": 0.32001999999999997,
            "bin_end": 0.33199,
            "count": 1
           },
           {
            "bin_start": 0.33199,
            "bin_end": 0.34396,
            "count": 0
           },
           {
            "bin_start": 0.34396,
            "bin_end": 0.35592999999999997,
            "count": 0
           },
           {
            "bin_start": 0.35592999999999997,
            "bin_end": 0.3679,
            "count": 1
           }
          ]
         }
        },
        {
         "name": "worst fractal dimension",
         "dtype": "float64",
         "stats": {
          "unique_count": 10,
          "nan_count": 0,
          "min": "0.06306",
          "max": "0.1118",
          "histogram": [
           {
            "bin_start": 0.06306,
            "bin_end": 0.06793400000000001,
            "count": 2
           },
           {
            "bin_start": 0.06793400000000001,
            "bin_end": 0.072808,
            "count": 2
           },
           {
            "bin_start": 0.072808,
            "bin_end": 0.077682,
            "count": 0
           },
           {
            "bin_start": 0.077682,
            "bin_end": 0.082556,
            "count": 2
           },
           {
            "bin_start": 0.082556,
            "bin_end": 0.08743000000000001,
            "count": 1
           },
           {
            "bin_start": 0.08743000000000001,
            "bin_end": 0.092304,
            "count": 1
           },
           {
            "bin_start": 0.092304,
            "bin_end": 0.097178,
            "count": 0
           },
           {
            "bin_start": 0.097178,
            "bin_end": 0.102052,
            "count": 1
           },
           {
            "bin_start": 0.102052,
            "bin_end": 0.106926,
            "count": 0
           },
           {
            "bin_start": 0.106926,
            "bin_end": 0.1118,
            "count": 1
           }
          ]
         }
        },
        {
         "name": "_deepnote_index_column",
         "dtype": "int64"
        }
       ],
       "rows": [
        {
         "mean radius": 20.64,
         "mean texture": 17.35,
         "mean perimeter": 134.8,
         "mean area": 1335,
         "mean smoothness": 0.09446,
         "mean compactness": 0.1076,
         "mean concavity": 0.1527,
         "mean concave points": 0.08941,
         "mean symmetry": 0.1571,
         "mean fractal dimension": 0.05478,
         "radius error": 0.6137,
         "texture error": 0.6575,
         "perimeter error": 4.119,
         "area error": 77.02,
         "smoothness error": 0.006211,
         "compactness error": 0.01895,
         "concavity error": 0.02681,
         "concave points error": 0.01232,
         "symmetry error": 0.01276,
         "fractal dimension error": 0.001711,
         "worst radius": 25.37,
         "worst texture": 23.17,
         "worst perimeter": 166.8,
         "worst area": 1946,
         "worst smoothness": 0.1562,
         "worst compactness": 0.3055,
         "worst concavity": 0.4159,
         "worst concave points": 0.2112,
         "worst symmetry": 0.2689,
         "worst fractal dimension": 0.07055,
         "_deepnote_index_column": 373
        },
        {
         "mean radius": 18.77,
         "mean texture": 21.43,
         "mean perimeter": 122.9,
         "mean area": 1092,
         "mean smoothness": 0.09116,
         "mean compactness": 0.1402,
         "mean concavity": 0.106,
         "mean concave points": 0.0609,
         "mean symmetry": 0.1953,
         "mean fractal dimension": 0.06083,
         "radius error": 0.6422,
         "texture error": 1.53,
         "perimeter error": 4.369,
         "area error": 88.25,
         "smoothness error": 0.007548,
         "compactness error": 0.03897,
         "concavity error": 0.03914,
         "concave points error": 0.01816,
         "symmetry error": 0.02168,
         "fractal dimension error": 0.004445,
         "worst radius": 24.54,
         "worst texture": 34.37,
         "worst perimeter": 161.1,
         "worst area": 1873,
         "worst smoothness": 0.1498,
         "worst compactness": 0.4827,
         "worst concavity": 0.4634,
         "worst concave points": 0.2048,
         "worst symmetry": 0.3679,
         "worst fractal dimension": 0.0987,
         "_deepnote_index_column": 337
        },
        {
         "mean radius": 12.3,
         "mean texture": 15.9,
         "mean perimeter": 78.83,
         "mean area": 463.7,
         "mean smoothness": 0.0808,
         "mean compactness": 0.07253,
         "mean concavity": 0.03844,
         "mean concave points": 0.01654,
         "mean symmetry": 0.1667,
         "mean fractal dimension": 0.05474,
         "radius error": 0.2382,
         "texture error": 0.8355,
         "perimeter error": 1.687,
         "area error": 18.32,
         "smoothness error": 0.005996,
         "compactness error": 0.02212,
         "concavity error": 0.02117,
         "concave points error": 0.006433,
         "symmetry error": 0.02025,
         "fractal dimension error": 0.001725,
         "worst radius": 13.35,
         "worst texture": 19.59,
         "worst perimeter": 86.65,
         "worst area": 546.7,
         "worst smoothness": 0.1096,
         "worst compactness": 0.165,
         "worst concavity": 0.1423,
         "worst concave points": 0.04815,
         "worst symmetry": 0.2482,
         "worst fractal dimension": 0.06306,
         "_deepnote_index_column": 189
        },
        {
         "mean radius": 10.18,
         "mean texture": 17.53,
         "mean perimeter": 65.12,
         "mean area": 313.1,
         "mean smoothness": 0.1061,
         "mean compactness": 0.08502,
         "mean concavity": 0.01768,
         "mean concave points": 0.01915,
         "mean symmetry": 0.191,
         "mean fractal dimension": 0.06908,
         "radius error": 0.2467,
         "texture error": 1.217,
         "perimeter error": 1.641,
         "area error": 15.05,
         "smoothness error": 0.007899,
         "compactness error": 0.014,
         "concavity error": 0.008534,
         "concave points error": 0.007624,
         "symmetry error": 0.02637,
         "fractal dimension error": 0.003761,
         "worst radius": 11.17,
         "worst texture": 22.84,
         "worst perimeter": 71.94,
         "worst area": 375.6,
         "worst smoothness": 0.1406,
         "worst compactness": 0.144,
         "worst concavity": 0.06572,
         "worst concave points": 0.05575,
         "worst symmetry": 0.3055,
         "worst fractal dimension": 0.08797,
         "_deepnote_index_column": 222
        },
        {
         "mean radius": 13.2,
         "mean texture": 15.82,
         "mean perimeter": 84.07,
         "mean area": 537.3,
         "mean smoothness": 0.08511,
         "mean compactness": 0.05251,
         "mean concavity": 0.001461,
         "mean concave points": 0.003261,
         "mean symmetry": 0.1632,
         "mean fractal dimension": 0.05894,
         "radius error": 0.1903,
         "texture error": 0.5735,
         "perimeter error": 1.204,
         "area error": 15.5,
         "smoothness error": 0.003632,
         "compactness error": 0.007861,
         "concavity error": 0.001128,
         "concave points error": 0.002386,
         "symmetry error": 0.01344,
         "fractal dimension error": 0.002585,
         "worst radius": 14.41,
         "worst texture": 20.45,
         "worst perimeter": 92,
         "worst area": 636.9,
         "worst smoothness": 0.1128,
         "worst compactness": 0.1346,
         "worst concavity": 0.0112,
         "worst concave points": 0.025,
         "worst symmetry": 0.2651,
         "worst fractal dimension": 0.08385,
         "_deepnote_index_column": 306
        },
        {
         "mean radius": 12.42,
         "mean texture": 15.04,
         "mean perimeter": 78.61,
         "mean area": 476.5,
         "mean smoothness": 0.07926,
         "mean compactness": 0.03393,
         "mean concavity": 0.01053,
         "mean concave points": 0.01108,
         "mean symmetry": 0.1546,
         "mean fractal dimension": 0.05754,
         "radius error": 0.1153,
         "texture error": 0.6745,
         "perimeter error": 0.757,
         "area error": 9.006,
         "smoothness error": 0.003265,
         "compactness error": 0.00493,
         "concavity error": 0.006493,
         "concave points error": 0.003762,
         "symmetry error": 0.0172,
         "fractal dimension error": 0.00136,
         "worst radius": 13.2,
         "worst texture": 20.37,
         "worst perimeter": 83.85,
         "worst area": 543.4,
         "worst smoothness": 0.1037,
         "worst compactness": 0.07776,
         "worst concavity": 0.06243,
         "worst concave points": 0.04052,
         "worst symmetry": 0.2901,
         "worst fractal dimension": 0.06783,
         "_deepnote_index_column": 241
        },
        {
         "mean radius": 11.52,
         "mean texture": 18.75,
         "mean perimeter": 73.34,
         "mean area": 409,
         "mean smoothness": 0.09524,
         "mean compactness": 0.05473,
         "mean concavity": 0.03036,
         "mean concave points": 0.02278,
         "mean symmetry": 0.192,
         "mean fractal dimension": 0.05907,
         "radius error": 0.3249,
         "texture error": 0.9591,
         "perimeter error": 2.183,
         "area error": 23.47,
         "smoothness error": 0.008328,
         "compactness error": 0.008722,
         "concavity error": 0.01349,
         "concave points error": 0.00867,
         "symmetry error": 0.03218,
         "fractal dimension error": 0.002386,
         "worst radius": 12.84,
         "worst texture": 22.47,
         "worst perimeter": 81.81,
         "worst area": 506.2,
         "worst smoothness": 0.1249,
         "worst compactness": 0.0872,
         "worst concavity": 0.09076,
         "worst concave points": 0.06316,
         "worst symmetry": 0.3306,
         "worst fractal dimension": 0.07036,
         "_deepnote_index_column": 55
        },
        {
         "mean radius": 14.53,
         "mean texture": 13.98,
         "mean perimeter": 93.86,
         "mean area": 644.2,
         "mean smoothness": 0.1099,
         "mean compactness": 0.09242,
         "mean concavity": 0.06895,
         "mean concave points": 0.06495,
         "mean symmetry": 0.165,
         "mean fractal dimension": 0.06121,
         "radius error": 0.306,
         "texture error": 0.7213,
         "perimeter error": 2.143,
         "area error": 25.7,
         "smoothness error": 0.006133,
         "compactness error": 0.01251,
         "concavity error": 0.01615,
         "concave points error": 0.01136,
         "symmetry error": 0.02207,
         "fractal dimension error": 0.003563,
         "worst radius": 15.8,
         "worst texture": 16.93,
         "worst perimeter": 103.1,
         "worst area": 749.9,
         "worst smoothness": 0.1347,
         "worst compactness": 0.1478,
         "worst concavity": 0.1373,
         "worst concave points": 0.1069,
         "worst symmetry": 0.2606,
         "worst fractal dimension": 0.0781,
         "_deepnote_index_column": 453
        },
        {
         "mean radius": 8.597,
         "mean texture": 18.6,
         "mean perimeter": 54.09,
         "mean area": 221.2,
         "mean smoothness": 0.1074,
         "mean compactness": 0.05847,
         "mean concavity": 0,
         "mean concave points": 0,
         "mean symmetry": 0.2163,
         "mean fractal dimension": 0.07359,
         "radius error": 0.3368,
         "texture error": 2.777,
         "perimeter error": 2.222,
         "area error": 17.81,
         "smoothness error": 0.02075,
         "compactness error": 0.01403,
         "concavity error": 0,
         "concave points error": 0,
         "symmetry error": 0.06146,
         "fractal dimension error": 0.00682,
         "worst radius": 8.952,
         "worst texture": 22.44,
         "worst perimeter": 56.65,
         "worst area": 240.1,
         "worst smoothness": 0.1347,
         "worst compactness": 0.07767,
         "worst concavity": 0,
         "worst concave points": 0,
         "worst symmetry": 0.3142,
         "worst fractal dimension": 0.08116,
         "_deepnote_index_column": 314
        },
        {
         "mean radius": 12.39,
         "mean texture": 17.48,
         "mean perimeter": 80.64,
         "mean area": 462.9,
         "mean smoothness": 0.1042,
         "mean compactness": 0.1297,
         "mean concavity": 0.05892,
         "mean concave points": 0.0288,
         "mean symmetry": 0.1779,
         "mean fractal dimension": 0.06588,
         "radius error": 0.2608,
         "texture error": 0.873,
         "perimeter error": 2.117,
         "area error": 19.2,
         "smoothness error": 0.006715,
         "compactness error": 0.03705,
         "concavity error": 0.04757,
         "concave points error": 0.01051,
         "symmetry error": 0.01838,
         "fractal dimension error": 0.006884,
         "worst radius": 14.18,
         "worst texture": 23.13,
         "worst perimeter": 95.23,
         "worst area": 600.5,
         "worst smoothness": 0.1427,
         "worst compactness": 0.3593,
         "worst concavity": 0.3206,
         "worst concave points": 0.09804,
         "worst symmetry": 0.2819,
         "worst fractal dimension": 0.1118,
         "_deepnote_index_column": 383
        }
       ]
      },
      "text/plain": "     mean radius  mean texture  mean perimeter  mean area  mean smoothness  \\\n373       20.640         17.35          134.80     1335.0          0.09446   \n337       18.770         21.43          122.90     1092.0          0.09116   \n189       12.300         15.90           78.83      463.7          0.08080   \n222       10.180         17.53           65.12      313.1          0.10610   \n306       13.200         15.82           84.07      537.3          0.08511   \n241       12.420         15.04           78.61      476.5          0.07926   \n55        11.520         18.75           73.34      409.0          0.09524   \n453       14.530         13.98           93.86      644.2          0.10990   \n314        8.597         18.60           54.09      221.2          0.10740   \n383       12.390         17.48           80.64      462.9          0.10420   \n\n     mean compactness  mean concavity  mean concave points  mean symmetry  \\\n373           0.10760        0.152700             0.089410         0.1571   \n337           0.14020        0.106000             0.060900         0.1953   \n189           0.07253        0.038440             0.016540         0.1667   \n222           0.08502        0.017680             0.019150         0.1910   \n306           0.05251        0.001461             0.003261         0.1632   \n241           0.03393        0.010530             0.011080         0.1546   \n55            0.05473        0.030360             0.022780         0.1920   \n453           0.09242        0.068950             0.064950         0.1650   \n314           0.05847        0.000000             0.000000         0.2163   \n383           0.12970        0.058920             0.028800         0.1779   \n\n     mean fractal dimension  ...  worst radius  worst texture  \\\n373                 0.05478  ...        25.370          23.17   \n337                 0.06083  ...        24.540          34.37   \n189                 0.05474  ...        13.350          19.59   \n222                 0.06908  ...        11.170          22.84   \n306                 0.05894  ...        14.410          20.45   \n241                 0.05754  ...        13.200          20.37   \n55                  0.05907  ...        12.840          22.47   \n453                 0.06121  ...        15.800          16.93   \n314                 0.07359  ...         8.952          22.44   \n383                 0.06588  ...        14.180          23.13   \n\n     worst perimeter  worst area  worst smoothness  worst compactness  \\\n373           166.80      1946.0            0.1562            0.30550   \n337           161.10      1873.0            0.1498            0.48270   \n189            86.65       546.7            0.1096            0.16500   \n222            71.94       375.6            0.1406            0.14400   \n306            92.00       636.9            0.1128            0.13460   \n241            83.85       543.4            0.1037            0.07776   \n55             81.81       506.2            0.1249            0.08720   \n453           103.10       749.9            0.1347            0.14780   \n314            56.65       240.1            0.1347            0.07767   \n383            95.23       600.5            0.1427            0.35930   \n\n     worst concavity  worst concave points  worst symmetry  \\\n373          0.41590               0.21120          0.2689   \n337          0.46340               0.20480          0.3679   \n189          0.14230               0.04815          0.2482   \n222          0.06572               0.05575          0.3055   \n306          0.01120               0.02500          0.2651   \n241          0.06243               0.04052          0.2901   \n55           0.09076               0.06316          0.3306   \n453          0.13730               0.10690          0.2606   \n314          0.00000               0.00000          0.3142   \n383          0.32060               0.09804          0.2819   \n\n     worst fractal dimension  \n373                  0.07055  \n337                  0.09870  \n189                  0.06306  \n222                  0.08797  \n306                  0.08385  \n241                  0.06783  \n55                   0.07036  \n453                  0.07810  \n314                  0.08116  \n383                  0.11180  \n\n[10 rows x 30 columns]",
      "text/html": "<div>\n<style scoped>\n    .dataframe tbody tr th:only-of-type {\n        vertical-align: middle;\n    }\n\n    .dataframe tbody tr th {\n        vertical-align: top;\n    }\n\n    .dataframe thead th {\n        text-align: right;\n    }\n</style>\n<table border=\"1\" class=\"dataframe\">\n  <thead>\n    <tr style=\"text-align: right;\">\n      <th></th>\n      <th>mean radius</th>\n      <th>mean texture</th>\n      <th>mean perimeter</th>\n      <th>mean area</th>\n      <th>mean smoothness</th>\n      <th>mean compactness</th>\n      <th>mean concavity</th>\n      <th>mean concave points</th>\n      <th>mean symmetry</th>\n      <th>mean fractal dimension</th>\n      <th>...</th>\n      <th>worst radius</th>\n      <th>worst texture</th>\n      <th>worst perimeter</th>\n      <th>worst area</th>\n      <th>worst smoothness</th>\n      <th>worst compactness</th>\n      <th>worst concavity</th>\n      <th>worst concave points</th>\n      <th>worst symmetry</th>\n      <th>worst fractal dimension</th>\n    </tr>\n  </thead>\n  <tbody>\n    <tr>\n      <th>373</th>\n      <td>20.640</td>\n      <td>17.35</td>\n      <td>134.80</td>\n      <td>1335.0</td>\n      <td>0.09446</td>\n      <td>0.10760</td>\n      <td>0.152700</td>\n      <td>0.089410</td>\n      <td>0.1571</td>\n      <td>0.05478</td>\n      <td>...</td>\n      <td>25.370</td>\n      <td>23.17</td>\n      <td>166.80</td>\n      <td>1946.0</td>\n      <td>0.1562</td>\n      <td>0.30550</td>\n      <td>0.41590</td>\n      <td>0.21120</td>\n      <td>0.2689</td>\n      <td>0.07055</td>\n    </tr>\n    <tr>\n      <th>337</th>\n      <td>18.770</td>\n      <td>21.43</td>\n      <td>122.90</td>\n      <td>1092.0</td>\n      <td>0.09116</td>\n      <td>0.14020</td>\n      <td>0.106000</td>\n      <td>0.060900</td>\n      <td>0.1953</td>\n      <td>0.06083</td>\n      <td>...</td>\n      <td>24.540</td>\n      <td>34.37</td>\n      <td>161.10</td>\n      <td>1873.0</td>\n      <td>0.1498</td>\n      <td>0.48270</td>\n      <td>0.46340</td>\n      <td>0.20480</td>\n      <td>0.3679</td>\n      <td>0.09870</td>\n    </tr>\n    <tr>\n      <th>189</th>\n      <td>12.300</td>\n      <td>15.90</td>\n      <td>78.83</td>\n      <td>463.7</td>\n      <td>0.08080</td>\n      <td>0.07253</td>\n      <td>0.038440</td>\n      <td>0.016540</td>\n      <td>0.1667</td>\n      <td>0.05474</td>\n      <td>...</td>\n      <td>13.350</td>\n      <td>19.59</td>\n      <td>86.65</td>\n      <td>546.7</td>\n      <td>0.1096</td>\n      <td>0.16500</td>\n      <td>0.14230</td>\n      <td>0.04815</td>\n      <td>0.2482</td>\n      <td>0.06306</td>\n    </tr>\n    <tr>\n      <th>222</th>\n      <td>10.180</td>\n      <td>17.53</td>\n      <td>65.12</td>\n      <td>313.1</td>\n      <td>0.10610</td>\n      <td>0.08502</td>\n      <td>0.017680</td>\n      <td>0.019150</td>\n      <td>0.1910</td>\n      <td>0.06908</td>\n      <td>...</td>\n      <td>11.170</td>\n      <td>22.84</td>\n      <td>71.94</td>\n      <td>375.6</td>\n      <td>0.1406</td>\n      <td>0.14400</td>\n      <td>0.06572</td>\n      <td>0.05575</td>\n      <td>0.3055</td>\n      <td>0.08797</td>\n    </tr>\n    <tr>\n      <th>306</th>\n      <td>13.200</td>\n      <td>15.82</td>\n      <td>84.07</td>\n      <td>537.3</td>\n      <td>0.08511</td>\n      <td>0.05251</td>\n      <td>0.001461</td>\n      <td>0.003261</td>\n      <td>0.1632</td>\n      <td>0.05894</td>\n      <td>...</td>\n      <td>14.410</td>\n      <td>20.45</td>\n      <td>92.00</td>\n      <td>636.9</td>\n      <td>0.1128</td>\n      <td>0.13460</td>\n      <td>0.01120</td>\n      <td>0.02500</td>\n      <td>0.2651</td>\n      <td>0.08385</td>\n    </tr>\n    <tr>\n      <th>241</th>\n      <td>12.420</td>\n      <td>15.04</td>\n      <td>78.61</td>\n      <td>476.5</td>\n      <td>0.07926</td>\n      <td>0.03393</td>\n      <td>0.010530</td>\n      <td>0.011080</td>\n      <td>0.1546</td>\n      <td>0.05754</td>\n      <td>...</td>\n      <td>13.200</td>\n      <td>20.37</td>\n      <td>83.85</td>\n      <td>543.4</td>\n      <td>0.1037</td>\n      <td>0.07776</td>\n      <td>0.06243</td>\n      <td>0.04052</td>\n      <td>0.2901</td>\n      <td>0.06783</td>\n    </tr>\n    <tr>\n      <th>55</th>\n      <td>11.520</td>\n      <td>18.75</td>\n      <td>73.34</td>\n      <td>409.0</td>\n      <td>0.09524</td>\n      <td>0.05473</td>\n      <td>0.030360</td>\n      <td>0.022780</td>\n      <td>0.1920</td>\n      <td>0.05907</td>\n      <td>...</td>\n      <td>12.840</td>\n      <td>22.47</td>\n      <td>81.81</td>\n      <td>506.2</td>\n      <td>0.1249</td>\n      <td>0.08720</td>\n      <td>0.09076</td>\n      <td>0.06316</td>\n      <td>0.3306</td>\n      <td>0.07036</td>\n    </tr>\n    <tr>\n      <th>453</th>\n      <td>14.530</td>\n      <td>13.98</td>\n      <td>93.86</td>\n      <td>644.2</td>\n      <td>0.10990</td>\n      <td>0.09242</td>\n      <td>0.068950</td>\n      <td>0.064950</td>\n      <td>0.1650</td>\n      <td>0.06121</td>\n      <td>...</td>\n      <td>15.800</td>\n      <td>16.93</td>\n      <td>103.10</td>\n      <td>749.9</td>\n      <td>0.1347</td>\n      <td>0.14780</td>\n      <td>0.13730</td>\n      <td>0.10690</td>\n      <td>0.2606</td>\n      <td>0.07810</td>\n    </tr>\n    <tr>\n      <th>314</th>\n      <td>8.597</td>\n      <td>18.60</td>\n      <td>54.09</td>\n      <td>221.2</td>\n      <td>0.10740</td>\n      <td>0.05847</td>\n      <td>0.000000</td>\n      <td>0.000000</td>\n      <td>0.2163</td>\n      <td>0.07359</td>\n      <td>...</td>\n      <td>8.952</td>\n      <td>22.44</td>\n      <td>56.65</td>\n      <td>240.1</td>\n      <td>0.1347</td>\n      <td>0.07767</td>\n      <td>0.00000</td>\n      <td>0.00000</td>\n      <td>0.3142</td>\n      <td>0.08116</td>\n    </tr>\n    <tr>\n      <th>383</th>\n      <td>12.390</td>\n      <td>17.48</td>\n      <td>80.64</td>\n      <td>462.9</td>\n      <td>0.10420</td>\n      <td>0.12970</td>\n      <td>0.058920</td>\n      <td>0.028800</td>\n      <td>0.1779</td>\n      <td>0.06588</td>\n      <td>...</td>\n      <td>14.180</td>\n      <td>23.13</td>\n      <td>95.23</td>\n      <td>600.5</td>\n      <td>0.1427</td>\n      <td>0.35930</td>\n      <td>0.32060</td>\n      <td>0.09804</td>\n      <td>0.2819</td>\n      <td>0.11180</td>\n    </tr>\n  </tbody>\n</table>\n<p>10 rows × 30 columns</p>\n</div>"
     },
     "metadata": {}
    }
   ],
   "execution_count": null
  },
  {
   "cell_type": "markdown",
   "source": "Test your logistical regression! You must get an accuracy of > 80%",
   "metadata": {
    "colab_type": "text",
    "id": "kUZXPX46CUS9",
    "cell_id": "00019-92a01ac8-2487-4e1c-a861-d54f06cd0b4e",
    "deepnote_cell_type": "markdown",
    "deepnote_cell_height": 52.390625
   }
  },
  {
   "cell_type": "code",
   "metadata": {
    "colab_type": "code",
    "id": "AnPoDu-CCTsE",
    "colab": {},
    "cell_id": "00020-1005de50-c723-4dd2-8836-3d3030120fb5",
    "deepnote_to_be_reexecuted": false,
    "source_hash": "babc2205",
    "execution_start": 1657724721200,
    "execution_millis": 3,
    "deepnote_cell_type": "code",
    "deepnote_cell_height": 275.390625
   },
   "source": "from sklearn.metrics import accuracy_score\n\n# YOUR CODE HERE\n\ny_train_pred=logreg.predict(X_train)\nprint(\"Training Accuracy is \", accuracy_score(y_train, y_train_pred)*100)\n\ny_val_pred=logreg.predict(X_val)\nprint(\"Validation Accuracy is \", accuracy_score(y_val,y_val_pred)*100)",
   "outputs": [
    {
     "name": "stdout",
     "text": "Training Accuracy is  94.61697722567288\nValidation Accuracy is  95.34883720930233\n",
     "output_type": "stream"
    }
   ],
   "execution_count": null
  },
  {
   "cell_type": "markdown",
   "source": "<a style='text-decoration:none;line-height:16px;display:flex;color:#5B5B62;padding:10px;justify-content:end;' href='https://deepnote.com?utm_source=created-in-deepnote-cell&projectId=580db97b-d3cc-4aaf-a4cd-4b3fe2541c47' target=\"_blank\">\n<img alt='Created in deepnote.com' style='display:inline;max-height:16px;margin:0px;margin-right:7.5px;' src='data:image/svg+xml;base64,PD94bWwgdmVyc2lvbj0iMS4wIiBlbmNvZGluZz0iVVRGLTgiPz4KPHN2ZyB3aWR0aD0iODBweCIgaGVpZ2h0PSI4MHB4IiB2aWV3Qm94PSIwIDAgODAgODAiIHZlcnNpb249IjEuMSIgeG1sbnM9Imh0dHA6Ly93d3cudzMub3JnLzIwMDAvc3ZnIiB4bWxuczp4bGluaz0iaHR0cDovL3d3dy53My5vcmcvMTk5OS94bGluayI+CiAgICA8IS0tIEdlbmVyYXRvcjogU2tldGNoIDU0LjEgKDc2NDkwKSAtIGh0dHBzOi8vc2tldGNoYXBwLmNvbSAtLT4KICAgIDx0aXRsZT5Hcm91cCAzPC90aXRsZT4KICAgIDxkZXNjPkNyZWF0ZWQgd2l0aCBTa2V0Y2guPC9kZXNjPgogICAgPGcgaWQ9IkxhbmRpbmciIHN0cm9rZT0ibm9uZSIgc3Ryb2tlLXdpZHRoPSIxIiBmaWxsPSJub25lIiBmaWxsLXJ1bGU9ImV2ZW5vZGQiPgogICAgICAgIDxnIGlkPSJBcnRib2FyZCIgdHJhbnNmb3JtPSJ0cmFuc2xhdGUoLTEyMzUuMDAwMDAwLCAtNzkuMDAwMDAwKSI+CiAgICAgICAgICAgIDxnIGlkPSJHcm91cC0zIiB0cmFuc2Zvcm09InRyYW5zbGF0ZSgxMjM1LjAwMDAwMCwgNzkuMDAwMDAwKSI+CiAgICAgICAgICAgICAgICA8cG9seWdvbiBpZD0iUGF0aC0yMCIgZmlsbD0iIzAyNjVCNCIgcG9pbnRzPSIyLjM3NjIzNzYyIDgwIDM4LjA0NzY2NjcgODAgNTcuODIxNzgyMiA3My44MDU3NTkyIDU3LjgyMTc4MjIgMzIuNzU5MjczOSAzOS4xNDAyMjc4IDMxLjY4MzE2ODMiPjwvcG9seWdvbj4KICAgICAgICAgICAgICAgIDxwYXRoIGQ9Ik0zNS4wMDc3MTgsODAgQzQyLjkwNjIwMDcsNzYuNDU0OTM1OCA0Ny41NjQ5MTY3LDcxLjU0MjI2NzEgNDguOTgzODY2LDY1LjI2MTk5MzkgQzUxLjExMjI4OTksNTUuODQxNTg0MiA0MS42NzcxNzk1LDQ5LjIxMjIyODQgMjUuNjIzOTg0Niw0OS4yMTIyMjg0IEMyNS40ODQ5Mjg5LDQ5LjEyNjg0NDggMjkuODI2MTI5Niw0My4yODM4MjQ4IDM4LjY0NzU4NjksMzEuNjgzMTY4MyBMNzIuODcxMjg3MSwzMi41NTQ0MjUgTDY1LjI4MDk3Myw2Ny42NzYzNDIxIEw1MS4xMTIyODk5LDc3LjM3NjE0NCBMMzUuMDA3NzE4LDgwIFoiIGlkPSJQYXRoLTIyIiBmaWxsPSIjMDAyODY4Ij48L3BhdGg+CiAgICAgICAgICAgICAgICA8cGF0aCBkPSJNMCwzNy43MzA0NDA1IEwyNy4xMTQ1MzcsMC4yNTcxMTE0MzYgQzYyLjM3MTUxMjMsLTEuOTkwNzE3MDEgODAsMTAuNTAwMzkyNyA4MCwzNy43MzA0NDA1IEM4MCw2NC45NjA0ODgyIDY0Ljc3NjUwMzgsNzkuMDUwMzQxNCAzNC4zMjk1MTEzLDgwIEM0Ny4wNTUzNDg5LDc3LjU2NzA4MDggNTMuNDE4MjY3Nyw3MC4zMTM2MTAzIDUzLjQxODI2NzcsNTguMjM5NTg4NSBDNTMuNDE4MjY3Nyw0MC4xMjg1NTU3IDM2LjMwMzk1NDQsMzcuNzMwNDQwNSAyNS4yMjc0MTcsMzcuNzMwNDQwNSBDMTcuODQzMDU4NiwzNy43MzA0NDA1IDkuNDMzOTE5NjYsMzcuNzMwNDQwNSAwLDM3LjczMDQ0MDUgWiIgaWQ9IlBhdGgtMTkiIGZpbGw9IiMzNzkzRUYiPjwvcGF0aD4KICAgICAgICAgICAgPC9nPgogICAgICAgIDwvZz4KICAgIDwvZz4KPC9zdmc+' > </img>\nCreated in <span style='font-weight:600;margin-left:4px;'>Deepnote</span></a>",
   "metadata": {
    "tags": [],
    "created_in_deepnote_cell": true,
    "deepnote_cell_type": "markdown"
   }
  }
 ],
 "nbformat": 4,
 "nbformat_minor": 0,
 "metadata": {
  "colab": {
   "name": "Regression_Exercises",
   "provenance": []
  },
  "kernelspec": {
   "display_name": "Python 3",
   "language": "python",
   "name": "python3"
  },
  "language_info": {
   "codemirror_mode": {
    "name": "ipython",
    "version": 3
   },
   "file_extension": ".py",
   "mimetype": "text/x-python",
   "name": "python",
   "nbconvert_exporter": "python",
   "pygments_lexer": "ipython3",
   "version": "3.7.3"
  },
  "deepnote_notebook_id": "cd1723ef-a6c7-4925-9bec-d14711299f9c",
  "deepnote": {},
  "deepnote_execution_queue": []
 }
}