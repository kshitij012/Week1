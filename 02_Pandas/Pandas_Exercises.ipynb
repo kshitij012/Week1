{
 "cells": [
  {
   "cell_type": "markdown",
   "source": "# Pandas Exercises",
   "metadata": {
    "colab_type": "text",
    "id": "bSU6eKZTdMXZ",
    "cell_id": "00000-a1a70b45-4173-41c3-bd0f-1c7334aedbc1",
    "deepnote_cell_type": "markdown",
    "deepnote_cell_height": 82
   }
  },
  {
   "cell_type": "code",
   "metadata": {
    "colab_type": "code",
    "id": "c5ewTg7vdQFm",
    "colab": {},
    "cell_id": "00001-c6d0491e-81bf-48bb-9f7d-2474bd25924c",
    "deepnote_to_be_reexecuted": false,
    "source_hash": "cf38372e",
    "execution_start": 1657642726380,
    "execution_millis": 739,
    "owner_user_id": "75ed3cbf-2348-419b-a44e-516a93015780",
    "deepnote_cell_type": "code",
    "deepnote_cell_height": 171
   },
   "source": "import pandas as pd\nimport numpy as np\nimport matplotlib.pyplot as plt\n\nurl = \"https://raw.githubusercontent.com/BeaverWorksMedlytics2020/Data_Public/master/NotebookExampleData/Week1/diabetes.csv\"\nnames = ['preg', 'plas', 'pres', 'skin', 'test', 'mass', 'pedi', 'age', 'class']",
   "execution_count": null,
   "outputs": []
  },
  {
   "cell_type": "markdown",
   "source": "Read in csv above to a pandas dataframe",
   "metadata": {
    "colab_type": "text",
    "id": "QOLgFaSKeShR",
    "cell_id": "00002-042a372d-c00c-4c1f-ac93-787afa44b1e9",
    "deepnote_cell_type": "markdown",
    "deepnote_cell_height": 52.390625
   }
  },
  {
   "cell_type": "code",
   "metadata": {
    "colab_type": "code",
    "id": "Okcb8dnXeX2C",
    "colab": {},
    "cell_id": "00003-3853efa3-180b-4c70-8be9-3a18524779a8",
    "deepnote_to_be_reexecuted": false,
    "source_hash": "a3f1f9b0",
    "execution_start": 1657642727123,
    "execution_millis": 77,
    "deepnote_cell_type": "code",
    "deepnote_cell_height": 81
   },
   "source": "data = pd.read_csv(url, names=names)",
   "execution_count": null,
   "outputs": []
  },
  {
   "cell_type": "markdown",
   "source": "Print out the age and class of the 100th patient",
   "metadata": {
    "colab_type": "text",
    "id": "d4DyOsuoewE2",
    "cell_id": "00004-7ec9296d-24bf-4019-8f5a-c844c6b8cb1a",
    "deepnote_cell_type": "markdown",
    "deepnote_cell_height": 52.390625
   }
  },
  {
   "cell_type": "code",
   "metadata": {
    "colab_type": "code",
    "id": "xZqBsg39eY8_",
    "colab": {},
    "cell_id": "00005-0056ddb4-3287-41f8-834d-5ece93cf6909",
    "deepnote_to_be_reexecuted": false,
    "source_hash": "e7defc78",
    "execution_start": 1657642727208,
    "execution_millis": 3,
    "deepnote_cell_type": "code",
    "deepnote_cell_height": 99
   },
   "source": "# YOUR CODE HERE\nprint(data.iloc[99])",
   "execution_count": null,
   "outputs": [
    {
     "name": "stdout",
     "text": "preg       1.000\nplas     122.000\npres      90.000\nskin      51.000\ntest     220.000\nmass      49.700\npedi       0.325\nage       31.000\nclass      1.000\nName: 99, dtype: float64\n",
     "output_type": "stream"
    }
   ]
  },
  {
   "cell_type": "markdown",
   "source": "Write code to figure out how many people are classified as not having diabetes, class is 0",
   "metadata": {
    "colab_type": "text",
    "id": "j8L2EM-5iOWc",
    "cell_id": "00006-82daaf2f-3e31-463a-9b7a-53799ab84fef",
    "deepnote_cell_type": "markdown",
    "deepnote_cell_height": 52.390625
   }
  },
  {
   "cell_type": "markdown",
   "source": "Write code to figure out how many people are classified as having diabetes, class is 1",
   "metadata": {
    "colab_type": "text",
    "id": "ieGRz4iiiX4E",
    "cell_id": "00008-389ce810-0027-4af4-b4bf-a5bdc38c1573",
    "deepnote_cell_type": "markdown",
    "deepnote_cell_height": 52.390625
   }
  },
  {
   "cell_type": "code",
   "metadata": {
    "colab_type": "code",
    "id": "-jq2O-vriXRT",
    "colab": {},
    "cell_id": "00009-5eb55bcc-0b10-4a59-a3de-fad689a23fe1",
    "deepnote_to_be_reexecuted": false,
    "source_hash": "8e8ce196",
    "execution_start": 1657642727212,
    "execution_millis": 10,
    "deepnote_cell_type": "code",
    "deepnote_cell_height": 153
   },
   "source": "safe = len(data[data['class'] == 0])\ninf = len(data[data['class'] == 1])\n\nprint(safe)\nprint(inf)",
   "execution_count": null,
   "outputs": [
    {
     "name": "stdout",
     "text": "500\n268\n",
     "output_type": "stream"
    }
   ]
  },
  {
   "cell_type": "markdown",
   "source": "What percent of people have diabetes in the study",
   "metadata": {
    "colab_type": "text",
    "id": "oeFT7T9OnuSd",
    "cell_id": "00010-31b5f7c6-ea56-457b-ae9c-72ab86c5c567",
    "deepnote_cell_type": "markdown",
    "deepnote_cell_height": 52.390625
   }
  },
  {
   "cell_type": "code",
   "metadata": {
    "colab_type": "code",
    "id": "zGGHptFYnwq0",
    "colab": {},
    "cell_id": "00011-a33c8893-4cbc-42b5-898d-e3115c13e329",
    "deepnote_to_be_reexecuted": false,
    "source_hash": "5075a019",
    "execution_start": 1657642727223,
    "execution_millis": 6,
    "deepnote_cell_type": "code",
    "deepnote_cell_height": 81
   },
   "source": "print((safe/(safe+inf))*100)",
   "execution_count": null,
   "outputs": [
    {
     "name": "stdout",
     "text": "65.10416666666666\n",
     "output_type": "stream"
    }
   ]
  },
  {
   "cell_type": "markdown",
   "source": "Print out the `\"pres\"` and `\"class\"` (no other columns) for the first 5 people",
   "metadata": {
    "colab_type": "text",
    "id": "nbrjnRPafs0p",
    "cell_id": "00012-5080ee0d-b515-4ca1-954d-63144b849480",
    "deepnote_cell_type": "markdown",
    "deepnote_cell_height": 52.390625
   }
  },
  {
   "cell_type": "code",
   "metadata": {
    "colab_type": "code",
    "id": "GiNCJ19KfHJQ",
    "colab": {},
    "cell_id": "00013-52905732-b305-424f-98c1-182e4ababc0c",
    "deepnote_to_be_reexecuted": false,
    "source_hash": "63b94d67",
    "execution_start": 1657642727271,
    "execution_millis": 24,
    "deepnote_cell_type": "code",
    "deepnote_cell_height": 81
   },
   "source": "data.loc[0:4, ['pres','class']]",
   "execution_count": null,
   "outputs": [
    {
     "output_type": "execute_result",
     "execution_count": 6,
     "data": {
      "application/vnd.deepnote.dataframe.v3+json": {
       "column_count": 2,
       "row_count": 5,
       "columns": [
        {
         "name": "pres",
         "dtype": "int64",
         "stats": {
          "unique_count": 4,
          "nan_count": 0,
          "min": "40",
          "max": "72",
          "histogram": [
           {
            "bin_start": 40,
            "bin_end": 43.2,
            "count": 1
           },
           {
            "bin_start": 43.2,
            "bin_end": 46.4,
            "count": 0
           },
           {
            "bin_start": 46.4,
            "bin_end": 49.6,
            "count": 0
           },
           {
            "bin_start": 49.6,
            "bin_end": 52.8,
            "count": 0
           },
           {
            "bin_start": 52.8,
            "bin_end": 56,
            "count": 0
           },
           {
            "bin_start": 56,
            "bin_end": 59.2,
            "count": 0
           },
           {
            "bin_start": 59.2,
            "bin_end": 62.400000000000006,
            "count": 0
           },
           {
            "bin_start": 62.400000000000006,
            "bin_end": 65.6,
            "count": 1
           },
           {
            "bin_start": 65.6,
            "bin_end": 68.8,
            "count": 2
           },
           {
            "bin_start": 68.8,
            "bin_end": 72,
            "count": 1
           }
          ]
         }
        },
        {
         "name": "class",
         "dtype": "int64",
         "stats": {
          "unique_count": 2,
          "nan_count": 0,
          "min": "0",
          "max": "1",
          "histogram": [
           {
            "bin_start": 0,
            "bin_end": 0.1,
            "count": 2
           },
           {
            "bin_start": 0.1,
            "bin_end": 0.2,
            "count": 0
           },
           {
            "bin_start": 0.2,
            "bin_end": 0.30000000000000004,
            "count": 0
           },
           {
            "bin_start": 0.30000000000000004,
            "bin_end": 0.4,
            "count": 0
           },
           {
            "bin_start": 0.4,
            "bin_end": 0.5,
            "count": 0
           },
           {
            "bin_start": 0.5,
            "bin_end": 0.6000000000000001,
            "count": 0
           },
           {
            "bin_start": 0.6000000000000001,
            "bin_end": 0.7000000000000001,
            "count": 0
           },
           {
            "bin_start": 0.7000000000000001,
            "bin_end": 0.8,
            "count": 0
           },
           {
            "bin_start": 0.8,
            "bin_end": 0.9,
            "count": 0
           },
           {
            "bin_start": 0.9,
            "bin_end": 1,
            "count": 3
           }
          ]
         }
        },
        {
         "name": "_deepnote_index_column",
         "dtype": "int64"
        }
       ],
       "rows": [
        {
         "pres": 72,
         "class": 1,
         "_deepnote_index_column": 0
        },
        {
         "pres": 66,
         "class": 0,
         "_deepnote_index_column": 1
        },
        {
         "pres": 64,
         "class": 1,
         "_deepnote_index_column": 2
        },
        {
         "pres": 66,
         "class": 0,
         "_deepnote_index_column": 3
        },
        {
         "pres": 40,
         "class": 1,
         "_deepnote_index_column": 4
        }
       ]
      },
      "text/plain": "   pres  class\n0    72      1\n1    66      0\n2    64      1\n3    66      0\n4    40      1",
      "text/html": "<div>\n<style scoped>\n    .dataframe tbody tr th:only-of-type {\n        vertical-align: middle;\n    }\n\n    .dataframe tbody tr th {\n        vertical-align: top;\n    }\n\n    .dataframe thead th {\n        text-align: right;\n    }\n</style>\n<table border=\"1\" class=\"dataframe\">\n  <thead>\n    <tr style=\"text-align: right;\">\n      <th></th>\n      <th>pres</th>\n      <th>class</th>\n    </tr>\n  </thead>\n  <tbody>\n    <tr>\n      <th>0</th>\n      <td>72</td>\n      <td>1</td>\n    </tr>\n    <tr>\n      <th>1</th>\n      <td>66</td>\n      <td>0</td>\n    </tr>\n    <tr>\n      <th>2</th>\n      <td>64</td>\n      <td>1</td>\n    </tr>\n    <tr>\n      <th>3</th>\n      <td>66</td>\n      <td>0</td>\n    </tr>\n    <tr>\n      <th>4</th>\n      <td>40</td>\n      <td>1</td>\n    </tr>\n  </tbody>\n</table>\n</div>"
     },
     "metadata": {}
    }
   ]
  },
  {
   "cell_type": "markdown",
   "source": "Run the cell below, it will print out the correlation among the columns",
   "metadata": {
    "colab_type": "text",
    "id": "O-CcsoqlhxUn",
    "cell_id": "00014-f3aad72a-9f72-4fb7-9d82-8d10b502d48a",
    "deepnote_cell_type": "markdown",
    "deepnote_cell_height": 52.390625
   }
  },
  {
   "cell_type": "code",
   "metadata": {
    "colab_type": "code",
    "id": "pXpVFt6MffQt",
    "colab": {},
    "cell_id": "00015-2172a85f-0f52-484b-a29e-5c3e48658917",
    "deepnote_to_be_reexecuted": false,
    "source_hash": "d0fc2601",
    "execution_start": 1657642727272,
    "execution_millis": 24,
    "deepnote_cell_type": "code",
    "deepnote_cell_height": 574
   },
   "source": "data.corr()",
   "execution_count": null,
   "outputs": [
    {
     "output_type": "execute_result",
     "execution_count": 7,
     "data": {
      "application/vnd.deepnote.dataframe.v3+json": {
       "column_count": 9,
       "row_count": 9,
       "columns": [
        {
         "name": "preg",
         "dtype": "float64",
         "stats": {
          "unique_count": 9,
          "nan_count": 0,
          "min": "-0.08167177444900726",
          "max": "1.0",
          "histogram": [
           {
            "bin_start": -0.08167177444900726,
            "bin_end": 0.026495402995893452,
            "count": 4
           },
           {
            "bin_start": 0.026495402995893452,
            "bin_end": 0.13466258044079416,
            "count": 1
           },
           {
            "bin_start": 0.13466258044079416,
            "bin_end": 0.24282975788569489,
            "count": 2
           },
           {
            "bin_start": 0.24282975788569489,
            "bin_end": 0.3509969353305956,
            "count": 0
           },
           {
            "bin_start": 0.3509969353305956,
            "bin_end": 0.45916411277549635,
            "count": 0
           },
           {
            "bin_start": 0.45916411277549635,
            "bin_end": 0.567331290220397,
            "count": 1
           },
           {
            "bin_start": 0.567331290220397,
            "bin_end": 0.6754984676652978,
            "count": 0
           },
           {
            "bin_start": 0.6754984676652978,
            "bin_end": 0.7836656451101984,
            "count": 0
           },
           {
            "bin_start": 0.7836656451101984,
            "bin_end": 0.8918328225550991,
            "count": 0
           },
           {
            "bin_start": 0.8918328225550991,
            "bin_end": 1,
            "count": 1
           }
          ]
         }
        },
        {
         "name": "plas",
         "dtype": "float64",
         "stats": {
          "unique_count": 9,
          "nan_count": 0,
          "min": "0.05732789073817692",
          "max": "1.0",
          "histogram": [
           {
            "bin_start": 0.05732789073817692,
            "bin_end": 0.15159510166435924,
            "count": 3
           },
           {
            "bin_start": 0.15159510166435924,
            "bin_end": 0.24586231259054156,
            "count": 2
           },
           {
            "bin_start": 0.24586231259054156,
            "bin_end": 0.3401295235167239,
            "count": 2
           },
           {
            "bin_start": 0.3401295235167239,
            "bin_end": 0.43439673444290616,
            "count": 0
           },
           {
            "bin_start": 0.43439673444290616,
            "bin_end": 0.5286639453690885,
            "count": 1
           },
           {
            "bin_start": 0.5286639453690885,
            "bin_end": 0.6229311562952708,
            "count": 0
           },
           {
            "bin_start": 0.6229311562952708,
            "bin_end": 0.7171983672214531,
            "count": 0
           },
           {
            "bin_start": 0.7171983672214531,
            "bin_end": 0.8114655781476354,
            "count": 0
           },
           {
            "bin_start": 0.8114655781476354,
            "bin_end": 0.9057327890738177,
            "count": 0
           },
           {
            "bin_start": 0.9057327890738177,
            "bin_end": 1,
            "count": 1
           }
          ]
         }
        },
        {
         "name": "pres",
         "dtype": "float64",
         "stats": {
          "unique_count": 9,
          "nan_count": 0,
          "min": "0.04126494793009856",
          "max": "1.0",
          "histogram": [
           {
            "bin_start": 0.04126494793009856,
            "bin_end": 0.1371384531370887,
            "count": 3
           },
           {
            "bin_start": 0.1371384531370887,
            "bin_end": 0.23301195834407884,
            "count": 3
           },
           {
            "bin_start": 0.23301195834407884,
            "bin_end": 0.328885463551069,
            "count": 2
           },
           {
            "bin_start": 0.328885463551069,
            "bin_end": 0.42475896875805913,
            "count": 0
           },
           {
            "bin_start": 0.42475896875805913,
            "bin_end": 0.5206324739650493,
            "count": 0
           },
           {
            "bin_start": 0.5206324739650493,
            "bin_end": 0.6165059791720395,
            "count": 0
           },
           {
            "bin_start": 0.6165059791720395,
            "bin_end": 0.7123794843790296,
            "count": 0
           },
           {
            "bin_start": 0.7123794843790296,
            "bin_end": 0.8082529895860198,
            "count": 0
           },
           {
            "bin_start": 0.8082529895860198,
            "bin_end": 0.9041264947930099,
            "count": 0
           },
           {
            "bin_start": 0.9041264947930099,
            "bin_end": 1,
            "count": 1
           }
          ]
         }
        },
        {
         "name": "skin",
         "dtype": "float64",
         "stats": {
          "unique_count": 9,
          "nan_count": 0,
          "min": "-0.11397026236774152",
          "max": "1.0",
          "histogram": [
           {
            "bin_start": -0.11397026236774152,
            "bin_end": -0.0025732361309673824,
            "count": 2
           },
           {
            "bin_start": -0.0025732361309673824,
            "bin_end": 0.10882379010580676,
            "count": 2
           },
           {
            "bin_start": 0.10882379010580676,
            "bin_end": 0.22022081634258087,
            "count": 2
           },
           {
            "bin_start": 0.22022081634258087,
            "bin_end": 0.331617842579355,
            "count": 0
           },
           {
            "bin_start": 0.331617842579355,
            "bin_end": 0.44301486881612917,
            "count": 2
           },
           {
            "bin_start": 0.44301486881612917,
            "bin_end": 0.5544118950529032,
            "count": 0
           },
           {
            "bin_start": 0.5544118950529032,
            "bin_end": 0.6658089212896774,
            "count": 0
           },
           {
            "bin_start": 0.6658089212896774,
            "bin_end": 0.7772059475264516,
            "count": 0
           },
           {
            "bin_start": 0.7772059475264516,
            "bin_end": 0.8886029737632256,
            "count": 0
           },
           {
            "bin_start": 0.8886029737632256,
            "bin_end": 1,
            "count": 1
           }
          ]
         }
        },
        {
         "name": "test",
         "dtype": "float64",
         "stats": {
          "unique_count": 9,
          "nan_count": 0,
          "min": "-0.07353461435162822",
          "max": "1.0",
          "histogram": [
           {
            "bin_start": -0.07353461435162822,
            "bin_end": 0.033818847083534595,
            "count": 2
           },
           {
            "bin_start": 0.033818847083534595,
            "bin_end": 0.14117230851869741,
            "count": 2
           },
           {
            "bin_start": 0.14117230851869741,
            "bin_end": 0.24852576995386022,
            "count": 2
           },
           {
            "bin_start": 0.24852576995386022,
            "bin_end": 0.35587923138902305,
            "count": 1
           },
           {
            "bin_start": 0.35587923138902305,
            "bin_end": 0.4632326928241859,
            "count": 1
           },
           {
            "bin_start": 0.4632326928241859,
            "bin_end": 0.5705861542593487,
            "count": 0
           },
           {
            "bin_start": 0.5705861542593487,
            "bin_end": 0.6779396156945116,
            "count": 0
           },
           {
            "bin_start": 0.6779396156945116,
            "bin_end": 0.7852930771296743,
            "count": 0
           },
           {
            "bin_start": 0.7852930771296743,
            "bin_end": 0.8926465385648371,
            "count": 0
           },
           {
            "bin_start": 0.8926465385648371,
            "bin_end": 1,
            "count": 1
           }
          ]
         }
        },
        {
         "name": "mass",
         "dtype": "float64",
         "stats": {
          "unique_count": 9,
          "nan_count": 0,
          "min": "0.017683090727830565",
          "max": "1.0",
          "histogram": [
           {
            "bin_start": 0.017683090727830565,
            "bin_end": 0.11591478165504751,
            "count": 2
           },
           {
            "bin_start": 0.11591478165504751,
            "bin_end": 0.21414647258226444,
            "count": 2
           },
           {
            "bin_start": 0.21414647258226444,
            "bin_end": 0.3123781635094814,
            "count": 3
           },
           {
            "bin_start": 0.3123781635094814,
            "bin_end": 0.41060985443669834,
            "count": 1
           },
           {
            "bin_start": 0.41060985443669834,
            "bin_end": 0.5088415453639152,
            "count": 0
           },
           {
            "bin_start": 0.5088415453639152,
            "bin_end": 0.6070732362911322,
            "count": 0
           },
           {
            "bin_start": 0.6070732362911322,
            "bin_end": 0.7053049272183491,
            "count": 0
           },
           {
            "bin_start": 0.7053049272183491,
            "bin_end": 0.8035366181455661,
            "count": 0
           },
           {
            "bin_start": 0.8035366181455661,
            "bin_end": 0.901768309072783,
            "count": 0
           },
           {
            "bin_start": 0.901768309072783,
            "bin_end": 1,
            "count": 1
           }
          ]
         }
        },
        {
         "name": "pedi",
         "dtype": "float64",
         "stats": {
          "unique_count": 9,
          "nan_count": 0,
          "min": "-0.03352267296261304",
          "max": "1.0",
          "histogram": [
           {
            "bin_start": -0.03352267296261304,
            "bin_end": 0.06982959433364827,
            "count": 3
           },
           {
            "bin_start": 0.06982959433364827,
            "bin_end": 0.17318186162990956,
            "count": 2
           },
           {
            "bin_start": 0.17318186162990956,
            "bin_end": 0.2765341289261709,
            "count": 3
           },
           {
            "bin_start": 0.2765341289261709,
            "bin_end": 0.3798863962224322,
            "count": 0
           },
           {
            "bin_start": 0.3798863962224322,
            "bin_end": 0.4832386635186935,
            "count": 0
           },
           {
            "bin_start": 0.4832386635186935,
            "bin_end": 0.5865909308149548,
            "count": 0
           },
           {
            "bin_start": 0.5865909308149548,
            "bin_end": 0.6899431981112161,
            "count": 0
           },
           {
            "bin_start": 0.6899431981112161,
            "bin_end": 0.7932954654074774,
            "count": 0
           },
           {
            "bin_start": 0.7932954654074774,
            "bin_end": 0.8966477327037388,
            "count": 0
           },
           {
            "bin_start": 0.8966477327037388,
            "bin_end": 1,
            "count": 1
           }
          ]
         }
        },
        {
         "name": "age",
         "dtype": "float64",
         "stats": {
          "unique_count": 9,
          "nan_count": 0,
          "min": "-0.11397026236774152",
          "max": "1.0",
          "histogram": [
           {
            "bin_start": -0.11397026236774152,
            "bin_end": -0.0025732361309673824,
            "count": 2
           },
           {
            "bin_start": -0.0025732361309673824,
            "bin_end": 0.10882379010580676,
            "count": 2
           },
           {
            "bin_start": 0.10882379010580676,
            "bin_end": 0.22022081634258087,
            "count": 0
           },
           {
            "bin_start": 0.22022081634258087,
            "bin_end": 0.331617842579355,
            "count": 3
           },
           {
            "bin_start": 0.331617842579355,
            "bin_end": 0.44301486881612917,
            "count": 0
           },
           {
            "bin_start": 0.44301486881612917,
            "bin_end": 0.5544118950529032,
            "count": 1
           },
           {
            "bin_start": 0.5544118950529032,
            "bin_end": 0.6658089212896774,
            "count": 0
           },
           {
            "bin_start": 0.6658089212896774,
            "bin_end": 0.7772059475264516,
            "count": 0
           },
           {
            "bin_start": 0.7772059475264516,
            "bin_end": 0.8886029737632256,
            "count": 0
           },
           {
            "bin_start": 0.8886029737632256,
            "bin_end": 1,
            "count": 1
           }
          ]
         }
        },
        {
         "name": "class",
         "dtype": "float64",
         "stats": {
          "unique_count": 9,
          "nan_count": 0,
          "min": "0.06506835955033277",
          "max": "1.0",
          "histogram": [
           {
            "bin_start": 0.06506835955033277,
            "bin_end": 0.15856152359529951,
            "count": 3
           },
           {
            "bin_start": 0.15856152359529951,
            "bin_end": 0.25205468764026623,
            "count": 3
           },
           {
            "bin_start": 0.25205468764026623,
            "bin_end": 0.34554785168523294,
            "count": 1
           },
           {
            "bin_start": 0.34554785168523294,
            "bin_end": 0.4390410157301997,
            "count": 0
           },
           {
            "bin_start": 0.4390410157301997,
            "bin_end": 0.5325341797751664,
            "count": 1
           },
           {
            "bin_start": 0.5325341797751664,
            "bin_end": 0.6260273438201331,
            "count": 0
           },
           {
            "bin_start": 0.6260273438201331,
            "bin_end": 0.7195205078650998,
            "count": 0
           },
           {
            "bin_start": 0.7195205078650998,
            "bin_end": 0.8130136719100666,
            "count": 0
           },
           {
            "bin_start": 0.8130136719100666,
            "bin_end": 0.9065068359550333,
            "count": 0
           },
           {
            "bin_start": 0.9065068359550333,
            "bin_end": 1,
            "count": 1
           }
          ]
         }
        },
        {
         "name": "_deepnote_index_column",
         "dtype": "object"
        }
       ],
       "rows": [
        {
         "preg": 1,
         "plas": 0.12945867149927248,
         "pres": 0.14128197740713966,
         "skin": -0.08167177444900726,
         "test": -0.07353461435162822,
         "mass": 0.017683090727830565,
         "pedi": -0.03352267296261304,
         "age": 0.5443412284023392,
         "class": 0.22189815303398636,
         "_deepnote_index_column": "preg"
        },
        {
         "preg": 0.12945867149927248,
         "plas": 1,
         "pres": 0.1525895865686646,
         "skin": 0.05732789073817692,
         "test": 0.3313571099202092,
         "mass": 0.2210710694589828,
         "pedi": 0.13733729982837092,
         "age": 0.26351431982433343,
         "class": 0.46658139830687373,
         "_deepnote_index_column": "plas"
        },
        {
         "preg": 0.14128197740713966,
         "plas": 0.1525895865686646,
         "pres": 1,
         "skin": 0.2073705384030709,
         "test": 0.08893337837319314,
         "mass": 0.2818052888499109,
         "pedi": 0.04126494793009856,
         "age": 0.23952794642136344,
         "class": 0.06506835955033277,
         "_deepnote_index_column": "pres"
        },
        {
         "preg": -0.08167177444900726,
         "plas": 0.05732789073817692,
         "pres": 0.2073705384030709,
         "skin": 1,
         "test": 0.43678257012001326,
         "mass": 0.39257320415903835,
         "pedi": 0.1839275729541631,
         "age": -0.11397026236774152,
         "class": 0.07475223191831946,
         "_deepnote_index_column": "skin"
        },
        {
         "preg": -0.07353461435162822,
         "plas": 0.3313571099202092,
         "pres": 0.08893337837319314,
         "skin": 0.43678257012001326,
         "test": 1,
         "mass": 0.19785905649310145,
         "pedi": 0.1850709291680993,
         "age": -0.04216295473537695,
         "class": 0.13054795488404794,
         "_deepnote_index_column": "test"
        },
        {
         "preg": 0.017683090727830565,
         "plas": 0.2210710694589828,
         "pres": 0.2818052888499109,
         "skin": 0.39257320415903835,
         "test": 0.19785905649310145,
         "mass": 1,
         "pedi": 0.14064695254510523,
         "age": 0.03624187009229395,
         "class": 0.2926946626444454,
         "_deepnote_index_column": "mass"
        },
        {
         "preg": -0.03352267296261304,
         "plas": 0.13733729982837092,
         "pres": 0.04126494793009856,
         "skin": 0.1839275729541631,
         "test": 0.1850709291680993,
         "mass": 0.14064695254510523,
         "pedi": 1,
         "age": 0.03356131243480539,
         "class": 0.17384406565296004,
         "_deepnote_index_column": "pedi"
        },
        {
         "preg": 0.5443412284023392,
         "plas": 0.26351431982433343,
         "pres": 0.23952794642136344,
         "skin": -0.11397026236774152,
         "test": -0.04216295473537695,
         "mass": 0.03624187009229395,
         "pedi": 0.03356131243480539,
         "age": 1,
         "class": 0.23835598302719757,
         "_deepnote_index_column": "age"
        },
        {
         "preg": 0.22189815303398636,
         "plas": 0.46658139830687373,
         "pres": 0.06506835955033277,
         "skin": 0.07475223191831946,
         "test": 0.13054795488404794,
         "mass": 0.2926946626444454,
         "pedi": 0.17384406565296004,
         "age": 0.23835598302719757,
         "class": 1,
         "_deepnote_index_column": "class"
        }
       ]
      },
      "text/plain": "           preg      plas      pres      skin      test      mass      pedi  \\\npreg   1.000000  0.129459  0.141282 -0.081672 -0.073535  0.017683 -0.033523   \nplas   0.129459  1.000000  0.152590  0.057328  0.331357  0.221071  0.137337   \npres   0.141282  0.152590  1.000000  0.207371  0.088933  0.281805  0.041265   \nskin  -0.081672  0.057328  0.207371  1.000000  0.436783  0.392573  0.183928   \ntest  -0.073535  0.331357  0.088933  0.436783  1.000000  0.197859  0.185071   \nmass   0.017683  0.221071  0.281805  0.392573  0.197859  1.000000  0.140647   \npedi  -0.033523  0.137337  0.041265  0.183928  0.185071  0.140647  1.000000   \nage    0.544341  0.263514  0.239528 -0.113970 -0.042163  0.036242  0.033561   \nclass  0.221898  0.466581  0.065068  0.074752  0.130548  0.292695  0.173844   \n\n            age     class  \npreg   0.544341  0.221898  \nplas   0.263514  0.466581  \npres   0.239528  0.065068  \nskin  -0.113970  0.074752  \ntest  -0.042163  0.130548  \nmass   0.036242  0.292695  \npedi   0.033561  0.173844  \nage    1.000000  0.238356  \nclass  0.238356  1.000000  ",
      "text/html": "<div>\n<style scoped>\n    .dataframe tbody tr th:only-of-type {\n        vertical-align: middle;\n    }\n\n    .dataframe tbody tr th {\n        vertical-align: top;\n    }\n\n    .dataframe thead th {\n        text-align: right;\n    }\n</style>\n<table border=\"1\" class=\"dataframe\">\n  <thead>\n    <tr style=\"text-align: right;\">\n      <th></th>\n      <th>preg</th>\n      <th>plas</th>\n      <th>pres</th>\n      <th>skin</th>\n      <th>test</th>\n      <th>mass</th>\n      <th>pedi</th>\n      <th>age</th>\n      <th>class</th>\n    </tr>\n  </thead>\n  <tbody>\n    <tr>\n      <th>preg</th>\n      <td>1.000000</td>\n      <td>0.129459</td>\n      <td>0.141282</td>\n      <td>-0.081672</td>\n      <td>-0.073535</td>\n      <td>0.017683</td>\n      <td>-0.033523</td>\n      <td>0.544341</td>\n      <td>0.221898</td>\n    </tr>\n    <tr>\n      <th>plas</th>\n      <td>0.129459</td>\n      <td>1.000000</td>\n      <td>0.152590</td>\n      <td>0.057328</td>\n      <td>0.331357</td>\n      <td>0.221071</td>\n      <td>0.137337</td>\n      <td>0.263514</td>\n      <td>0.466581</td>\n    </tr>\n    <tr>\n      <th>pres</th>\n      <td>0.141282</td>\n      <td>0.152590</td>\n      <td>1.000000</td>\n      <td>0.207371</td>\n      <td>0.088933</td>\n      <td>0.281805</td>\n      <td>0.041265</td>\n      <td>0.239528</td>\n      <td>0.065068</td>\n    </tr>\n    <tr>\n      <th>skin</th>\n      <td>-0.081672</td>\n      <td>0.057328</td>\n      <td>0.207371</td>\n      <td>1.000000</td>\n      <td>0.436783</td>\n      <td>0.392573</td>\n      <td>0.183928</td>\n      <td>-0.113970</td>\n      <td>0.074752</td>\n    </tr>\n    <tr>\n      <th>test</th>\n      <td>-0.073535</td>\n      <td>0.331357</td>\n      <td>0.088933</td>\n      <td>0.436783</td>\n      <td>1.000000</td>\n      <td>0.197859</td>\n      <td>0.185071</td>\n      <td>-0.042163</td>\n      <td>0.130548</td>\n    </tr>\n    <tr>\n      <th>mass</th>\n      <td>0.017683</td>\n      <td>0.221071</td>\n      <td>0.281805</td>\n      <td>0.392573</td>\n      <td>0.197859</td>\n      <td>1.000000</td>\n      <td>0.140647</td>\n      <td>0.036242</td>\n      <td>0.292695</td>\n    </tr>\n    <tr>\n      <th>pedi</th>\n      <td>-0.033523</td>\n      <td>0.137337</td>\n      <td>0.041265</td>\n      <td>0.183928</td>\n      <td>0.185071</td>\n      <td>0.140647</td>\n      <td>1.000000</td>\n      <td>0.033561</td>\n      <td>0.173844</td>\n    </tr>\n    <tr>\n      <th>age</th>\n      <td>0.544341</td>\n      <td>0.263514</td>\n      <td>0.239528</td>\n      <td>-0.113970</td>\n      <td>-0.042163</td>\n      <td>0.036242</td>\n      <td>0.033561</td>\n      <td>1.000000</td>\n      <td>0.238356</td>\n    </tr>\n    <tr>\n      <th>class</th>\n      <td>0.221898</td>\n      <td>0.466581</td>\n      <td>0.065068</td>\n      <td>0.074752</td>\n      <td>0.130548</td>\n      <td>0.292695</td>\n      <td>0.173844</td>\n      <td>0.238356</td>\n      <td>1.000000</td>\n    </tr>\n  </tbody>\n</table>\n</div>"
     },
     "metadata": {}
    }
   ]
  },
  {
   "cell_type": "markdown",
   "source": "What column has the highest correlation with class? Find the mean() value of that column",
   "metadata": {
    "colab_type": "text",
    "id": "P_7xRF11h4Uf",
    "cell_id": "00016-c6dc3dd2-3401-45f6-82f1-9b8d3db94077",
    "deepnote_cell_type": "markdown",
    "deepnote_cell_height": 52.390625
   }
  },
  {
   "cell_type": "code",
   "metadata": {
    "colab_type": "code",
    "id": "clb2Gh8Mn9d4",
    "colab": {},
    "cell_id": "00017-b1dcf134-97de-42fa-ac10-96fe97db8e2c",
    "deepnote_to_be_reexecuted": false,
    "source_hash": "f5661f42",
    "execution_start": 1657642727298,
    "execution_millis": 3,
    "deepnote_cell_type": "code",
    "deepnote_cell_height": 117
   },
   "source": "# YOUR CODE HERE\nmeanPlas = data[\"plas\"].mean()\nprint(meanPlas)",
   "execution_count": null,
   "outputs": [
    {
     "name": "stdout",
     "text": "120.89453125\n",
     "output_type": "stream"
    }
   ]
  },
  {
   "cell_type": "markdown",
   "source": "Create a new dataframe with only people that are above the mean found in the above cell.",
   "metadata": {
    "colab_type": "text",
    "id": "64yWhAARoWw-",
    "cell_id": "00018-fd63fcb2-c10a-4a26-b428-e30348fe833a",
    "deepnote_cell_type": "markdown",
    "deepnote_cell_height": 52.390625
   }
  },
  {
   "cell_type": "code",
   "metadata": {
    "colab_type": "code",
    "id": "HRLjs3agkdPY",
    "colab": {},
    "cell_id": "00019-8b938a90-7bd5-4ba2-92f1-4df4ffc190e0",
    "deepnote_to_be_reexecuted": false,
    "source_hash": "7550d05",
    "execution_start": 1657642727303,
    "execution_millis": 27,
    "deepnote_cell_type": "code",
    "deepnote_cell_height": 81
   },
   "source": "data[data['plas'] > meanPlas]",
   "execution_count": null,
   "outputs": [
    {
     "output_type": "execute_result",
     "execution_count": 9,
     "data": {
      "application/vnd.deepnote.dataframe.v3+json": {
       "column_count": 9,
       "row_count": 349,
       "columns": [
        {
         "name": "preg",
         "dtype": "int64",
         "stats": {
          "unique_count": 17,
          "nan_count": 0,
          "min": "0",
          "max": "17",
          "histogram": [
           {
            "bin_start": 0,
            "bin_end": 1.7,
            "count": 100
           },
           {
            "bin_start": 1.7,
            "bin_end": 3.4,
            "count": 68
           },
           {
            "bin_start": 3.4,
            "bin_end": 5.1,
            "count": 62
           },
           {
            "bin_start": 5.1,
            "bin_end": 6.8,
            "count": 22
           },
           {
            "bin_start": 6.8,
            "bin_end": 8.5,
            "count": 47
           },
           {
            "bin_start": 8.5,
            "bin_end": 10.2,
            "count": 30
           },
           {
            "bin_start": 10.2,
            "bin_end": 11.9,
            "count": 7
           },
           {
            "bin_start": 11.9,
            "bin_end": 13.6,
            "count": 10
           },
           {
            "bin_start": 13.6,
            "bin_end": 15.299999999999999,
            "count": 2
           },
           {
            "bin_start": 15.299999999999999,
            "bin_end": 17,
            "count": 1
           }
          ]
         }
        },
        {
         "name": "plas",
         "dtype": "int64",
         "stats": {
          "unique_count": 77,
          "nan_count": 0,
          "min": "121",
          "max": "199",
          "histogram": [
           {
            "bin_start": 121,
            "bin_end": 128.8,
            "count": 77
           },
           {
            "bin_start": 128.8,
            "bin_end": 136.6,
            "count": 54
           },
           {
            "bin_start": 136.6,
            "bin_end": 144.4,
            "count": 49
           },
           {
            "bin_start": 144.4,
            "bin_end": 152.2,
            "count": 39
           },
           {
            "bin_start": 152.2,
            "bin_end": 160,
            "count": 28
           },
           {
            "bin_start": 160,
            "bin_end": 167.8,
            "count": 26
           },
           {
            "bin_start": 167.8,
            "bin_end": 175.6,
            "count": 21
           },
           {
            "bin_start": 175.6,
            "bin_end": 183.4,
            "count": 23
           },
           {
            "bin_start": 183.4,
            "bin_end": 191.2,
            "count": 16
           },
           {
            "bin_start": 191.2,
            "bin_end": 199,
            "count": 16
           }
          ]
         }
        },
        {
         "name": "pres",
         "dtype": "int64",
         "stats": {
          "unique_count": 41,
          "nan_count": 0,
          "min": "0",
          "max": "114",
          "histogram": [
           {
            "bin_start": 0,
            "bin_end": 11.4,
            "count": 13
           },
           {
            "bin_start": 11.4,
            "bin_end": 22.8,
            "count": 0
           },
           {
            "bin_start": 22.8,
            "bin_end": 34.2,
            "count": 0
           },
           {
            "bin_start": 34.2,
            "bin_end": 45.6,
            "count": 1
           },
           {
            "bin_start": 45.6,
            "bin_end": 57,
            "count": 20
           },
           {
            "bin_start": 57,
            "bin_end": 68.4,
            "count": 71
           },
           {
            "bin_start": 68.4,
            "bin_end": 79.8,
            "count": 122
           },
           {
            "bin_start": 79.8,
            "bin_end": 91.2,
            "count": 98
           },
           {
            "bin_start": 91.2,
            "bin_end": 102.60000000000001,
            "count": 15
           },
           {
            "bin_start": 102.60000000000001,
            "bin_end": 114,
            "count": 9
           }
          ]
         }
        },
        {
         "name": "skin",
         "dtype": "int64",
         "stats": {
          "unique_count": 46,
          "nan_count": 0,
          "min": "0",
          "max": "99",
          "histogram": [
           {
            "bin_start": 0,
            "bin_end": 9.9,
            "count": 114
           },
           {
            "bin_start": 9.9,
            "bin_end": 19.8,
            "count": 30
           },
           {
            "bin_start": 19.8,
            "bin_end": 29.700000000000003,
            "count": 68
           },
           {
            "bin_start": 29.700000000000003,
            "bin_end": 39.6,
            "count": 87
           },
           {
            "bin_start": 39.6,
            "bin_end": 49.5,
            "count": 44
           },
           {
            "bin_start": 49.5,
            "bin_end": 59.400000000000006,
            "count": 4
           },
           {
            "bin_start": 59.400000000000006,
            "bin_end": 69.3,
            "count": 1
           },
           {
            "bin_start": 69.3,
            "bin_end": 79.2,
            "count": 0
           },
           {
            "bin_start": 79.2,
            "bin_end": 89.10000000000001,
            "count": 0
           },
           {
            "bin_start": 89.10000000000001,
            "bin_end": 99,
            "count": 1
           }
          ]
         }
        },
        {
         "name": "test",
         "dtype": "int64",
         "stats": {
          "unique_count": 129,
          "nan_count": 0,
          "min": "0",
          "max": "846",
          "histogram": [
           {
            "bin_start": 0,
            "bin_end": 84.6,
            "count": 174
           },
           {
            "bin_start": 84.6,
            "bin_end": 169.2,
            "count": 78
           },
           {
            "bin_start": 169.2,
            "bin_end": 253.79999999999998,
            "count": 46
           },
           {
            "bin_start": 253.79999999999998,
            "bin_end": 338.4,
            "count": 25
           },
           {
            "bin_start": 338.4,
            "bin_end": 423,
            "count": 8
           },
           {
            "bin_start": 423,
            "bin_end": 507.59999999999997,
            "count": 9
           },
           {
            "bin_start": 507.59999999999997,
            "bin_end": 592.1999999999999,
            "count": 5
           },
           {
            "bin_start": 592.1999999999999,
            "bin_end": 676.8,
            "count": 1
           },
           {
            "bin_start": 676.8,
            "bin_end": 761.4,
            "count": 2
           },
           {
            "bin_start": 761.4,
            "bin_end": 846,
            "count": 1
           }
          ]
         }
        },
        {
         "name": "mass",
         "dtype": "float64",
         "stats": {
          "unique_count": 178,
          "nan_count": 0,
          "min": "0.0",
          "max": "67.1",
          "histogram": [
           {
            "bin_start": 0,
            "bin_end": 6.709999999999999,
            "count": 2
           },
           {
            "bin_start": 6.709999999999999,
            "bin_end": 13.419999999999998,
            "count": 0
           },
           {
            "bin_start": 13.419999999999998,
            "bin_end": 20.129999999999995,
            "count": 1
           },
           {
            "bin_start": 20.129999999999995,
            "bin_end": 26.839999999999996,
            "count": 50
           },
           {
            "bin_start": 26.839999999999996,
            "bin_end": 33.55,
            "count": 122
           },
           {
            "bin_start": 33.55,
            "bin_end": 40.25999999999999,
            "count": 115
           },
           {
            "bin_start": 40.25999999999999,
            "bin_end": 46.96999999999999,
            "count": 45
           },
           {
            "bin_start": 46.96999999999999,
            "bin_end": 53.67999999999999,
            "count": 11
           },
           {
            "bin_start": 53.67999999999999,
            "bin_end": 60.38999999999999,
            "count": 2
           },
           {
            "bin_start": 60.38999999999999,
            "bin_end": 67.1,
            "count": 1
           }
          ]
         }
        },
        {
         "name": "pedi",
         "dtype": "float64",
         "stats": {
          "unique_count": 281,
          "nan_count": 0,
          "min": "0.088",
          "max": "2.42",
          "histogram": [
           {
            "bin_start": 0.088,
            "bin_end": 0.3212,
            "count": 135
           },
           {
            "bin_start": 0.3212,
            "bin_end": 0.5544,
            "count": 94
           },
           {
            "bin_start": 0.5544,
            "bin_end": 0.7876,
            "count": 65
           },
           {
            "bin_start": 0.7876,
            "bin_end": 1.0208,
            "count": 25
           },
           {
            "bin_start": 1.0208,
            "bin_end": 1.254,
            "count": 16
           },
           {
            "bin_start": 1.254,
            "bin_end": 1.4872,
            "count": 7
           },
           {
            "bin_start": 1.4872,
            "bin_end": 1.7204,
            "count": 1
           },
           {
            "bin_start": 1.7204,
            "bin_end": 1.9536,
            "count": 2
           },
           {
            "bin_start": 1.9536,
            "bin_end": 2.1868,
            "count": 1
           },
           {
            "bin_start": 2.1868,
            "bin_end": 2.42,
            "count": 3
           }
          ]
         }
        },
        {
         "name": "age",
         "dtype": "int64",
         "stats": {
          "unique_count": 47,
          "nan_count": 0,
          "min": "21",
          "max": "81",
          "histogram": [
           {
            "bin_start": 21,
            "bin_end": 27,
            "count": 94
           },
           {
            "bin_start": 27,
            "bin_end": 33,
            "count": 70
           },
           {
            "bin_start": 33,
            "bin_end": 39,
            "count": 51
           },
           {
            "bin_start": 39,
            "bin_end": 45,
            "count": 47
           },
           {
            "bin_start": 45,
            "bin_end": 51,
            "count": 29
           },
           {
            "bin_start": 51,
            "bin_end": 57,
            "count": 25
           },
           {
            "bin_start": 57,
            "bin_end": 63,
            "count": 19
           },
           {
            "bin_start": 63,
            "bin_end": 69,
            "count": 10
           },
           {
            "bin_start": 69,
            "bin_end": 75,
            "count": 3
           },
           {
            "bin_start": 75,
            "bin_end": 81,
            "count": 1
           }
          ]
         }
        },
        {
         "name": "class",
         "dtype": "int64",
         "stats": {
          "unique_count": 2,
          "nan_count": 0,
          "min": "0",
          "max": "1",
          "histogram": [
           {
            "bin_start": 0,
            "bin_end": 0.1,
            "count": 154
           },
           {
            "bin_start": 0.1,
            "bin_end": 0.2,
            "count": 0
           },
           {
            "bin_start": 0.2,
            "bin_end": 0.30000000000000004,
            "count": 0
           },
           {
            "bin_start": 0.30000000000000004,
            "bin_end": 0.4,
            "count": 0
           },
           {
            "bin_start": 0.4,
            "bin_end": 0.5,
            "count": 0
           },
           {
            "bin_start": 0.5,
            "bin_end": 0.6000000000000001,
            "count": 0
           },
           {
            "bin_start": 0.6000000000000001,
            "bin_end": 0.7000000000000001,
            "count": 0
           },
           {
            "bin_start": 0.7000000000000001,
            "bin_end": 0.8,
            "count": 0
           },
           {
            "bin_start": 0.8,
            "bin_end": 0.9,
            "count": 0
           },
           {
            "bin_start": 0.9,
            "bin_end": 1,
            "count": 195
           }
          ]
         }
        },
        {
         "name": "_deepnote_index_column",
         "dtype": "int64"
        }
       ],
       "rows": [
        {
         "preg": 6,
         "plas": 148,
         "pres": 72,
         "skin": 35,
         "test": 0,
         "mass": 33.6,
         "pedi": 0.627,
         "age": 50,
         "class": 1,
         "_deepnote_index_column": 0
        },
        {
         "preg": 8,
         "plas": 183,
         "pres": 64,
         "skin": 0,
         "test": 0,
         "mass": 23.3,
         "pedi": 0.672,
         "age": 32,
         "class": 1,
         "_deepnote_index_column": 2
        },
        {
         "preg": 0,
         "plas": 137,
         "pres": 40,
         "skin": 35,
         "test": 168,
         "mass": 43.1,
         "pedi": 2.288,
         "age": 33,
         "class": 1,
         "_deepnote_index_column": 4
        },
        {
         "preg": 2,
         "plas": 197,
         "pres": 70,
         "skin": 45,
         "test": 543,
         "mass": 30.5,
         "pedi": 0.158,
         "age": 53,
         "class": 1,
         "_deepnote_index_column": 8
        },
        {
         "preg": 8,
         "plas": 125,
         "pres": 96,
         "skin": 0,
         "test": 0,
         "mass": 0,
         "pedi": 0.232,
         "age": 54,
         "class": 1,
         "_deepnote_index_column": 9
        },
        {
         "preg": 10,
         "plas": 168,
         "pres": 74,
         "skin": 0,
         "test": 0,
         "mass": 38,
         "pedi": 0.537,
         "age": 34,
         "class": 1,
         "_deepnote_index_column": 11
        },
        {
         "preg": 10,
         "plas": 139,
         "pres": 80,
         "skin": 0,
         "test": 0,
         "mass": 27.1,
         "pedi": 1.441,
         "age": 57,
         "class": 0,
         "_deepnote_index_column": 12
        },
        {
         "preg": 1,
         "plas": 189,
         "pres": 60,
         "skin": 23,
         "test": 846,
         "mass": 30.1,
         "pedi": 0.398,
         "age": 59,
         "class": 1,
         "_deepnote_index_column": 13
        },
        {
         "preg": 5,
         "plas": 166,
         "pres": 72,
         "skin": 19,
         "test": 175,
         "mass": 25.8,
         "pedi": 0.587,
         "age": 51,
         "class": 1,
         "_deepnote_index_column": 14
        },
        {
         "preg": 3,
         "plas": 126,
         "pres": 88,
         "skin": 41,
         "test": 235,
         "mass": 39.3,
         "pedi": 0.704,
         "age": 27,
         "class": 0,
         "_deepnote_index_column": 20
        }
       ]
      },
      "text/plain": "     preg  plas  pres  skin  test  mass   pedi  age  class\n0       6   148    72    35     0  33.6  0.627   50      1\n2       8   183    64     0     0  23.3  0.672   32      1\n4       0   137    40    35   168  43.1  2.288   33      1\n8       2   197    70    45   543  30.5  0.158   53      1\n9       8   125    96     0     0   0.0  0.232   54      1\n..    ...   ...   ...   ...   ...   ...    ...  ...    ...\n759     6   190    92     0     0  35.5  0.278   66      1\n761     9   170    74    31     0  44.0  0.403   43      1\n764     2   122    70    27     0  36.8  0.340   27      0\n765     5   121    72    23   112  26.2  0.245   30      0\n766     1   126    60     0     0  30.1  0.349   47      1\n\n[349 rows x 9 columns]",
      "text/html": "<div>\n<style scoped>\n    .dataframe tbody tr th:only-of-type {\n        vertical-align: middle;\n    }\n\n    .dataframe tbody tr th {\n        vertical-align: top;\n    }\n\n    .dataframe thead th {\n        text-align: right;\n    }\n</style>\n<table border=\"1\" class=\"dataframe\">\n  <thead>\n    <tr style=\"text-align: right;\">\n      <th></th>\n      <th>preg</th>\n      <th>plas</th>\n      <th>pres</th>\n      <th>skin</th>\n      <th>test</th>\n      <th>mass</th>\n      <th>pedi</th>\n      <th>age</th>\n      <th>class</th>\n    </tr>\n  </thead>\n  <tbody>\n    <tr>\n      <th>0</th>\n      <td>6</td>\n      <td>148</td>\n      <td>72</td>\n      <td>35</td>\n      <td>0</td>\n      <td>33.6</td>\n      <td>0.627</td>\n      <td>50</td>\n      <td>1</td>\n    </tr>\n    <tr>\n      <th>2</th>\n      <td>8</td>\n      <td>183</td>\n      <td>64</td>\n      <td>0</td>\n      <td>0</td>\n      <td>23.3</td>\n      <td>0.672</td>\n      <td>32</td>\n      <td>1</td>\n    </tr>\n    <tr>\n      <th>4</th>\n      <td>0</td>\n      <td>137</td>\n      <td>40</td>\n      <td>35</td>\n      <td>168</td>\n      <td>43.1</td>\n      <td>2.288</td>\n      <td>33</td>\n      <td>1</td>\n    </tr>\n    <tr>\n      <th>8</th>\n      <td>2</td>\n      <td>197</td>\n      <td>70</td>\n      <td>45</td>\n      <td>543</td>\n      <td>30.5</td>\n      <td>0.158</td>\n      <td>53</td>\n      <td>1</td>\n    </tr>\n    <tr>\n      <th>9</th>\n      <td>8</td>\n      <td>125</td>\n      <td>96</td>\n      <td>0</td>\n      <td>0</td>\n      <td>0.0</td>\n      <td>0.232</td>\n      <td>54</td>\n      <td>1</td>\n    </tr>\n    <tr>\n      <th>...</th>\n      <td>...</td>\n      <td>...</td>\n      <td>...</td>\n      <td>...</td>\n      <td>...</td>\n      <td>...</td>\n      <td>...</td>\n      <td>...</td>\n      <td>...</td>\n    </tr>\n    <tr>\n      <th>759</th>\n      <td>6</td>\n      <td>190</td>\n      <td>92</td>\n      <td>0</td>\n      <td>0</td>\n      <td>35.5</td>\n      <td>0.278</td>\n      <td>66</td>\n      <td>1</td>\n    </tr>\n    <tr>\n      <th>761</th>\n      <td>9</td>\n      <td>170</td>\n      <td>74</td>\n      <td>31</td>\n      <td>0</td>\n      <td>44.0</td>\n      <td>0.403</td>\n      <td>43</td>\n      <td>1</td>\n    </tr>\n    <tr>\n      <th>764</th>\n      <td>2</td>\n      <td>122</td>\n      <td>70</td>\n      <td>27</td>\n      <td>0</td>\n      <td>36.8</td>\n      <td>0.340</td>\n      <td>27</td>\n      <td>0</td>\n    </tr>\n    <tr>\n      <th>765</th>\n      <td>5</td>\n      <td>121</td>\n      <td>72</td>\n      <td>23</td>\n      <td>112</td>\n      <td>26.2</td>\n      <td>0.245</td>\n      <td>30</td>\n      <td>0</td>\n    </tr>\n    <tr>\n      <th>766</th>\n      <td>1</td>\n      <td>126</td>\n      <td>60</td>\n      <td>0</td>\n      <td>0</td>\n      <td>30.1</td>\n      <td>0.349</td>\n      <td>47</td>\n      <td>1</td>\n    </tr>\n  </tbody>\n</table>\n<p>349 rows × 9 columns</p>\n</div>"
     },
     "metadata": {}
    }
   ]
  },
  {
   "cell_type": "markdown",
   "source": "Create a new dataframe that only includes people who are above the average value for each column in the dataset. In other words, find the average value for each column, and then find which users have values above all of these average column values.",
   "metadata": {
    "colab_type": "text",
    "id": "RxGIQp0JrUnq",
    "cell_id": "00020-d5d0c3ea-9655-4aa2-97dd-4bf3a09e357f",
    "deepnote_cell_type": "markdown",
    "deepnote_cell_height": 97.1875
   }
  },
  {
   "cell_type": "code",
   "metadata": {
    "colab_type": "code",
    "id": "Ylf4p6NNrfME",
    "colab": {},
    "cell_id": "00021-064e8e41-d624-434c-a65a-392e463c840e",
    "deepnote_to_be_reexecuted": false,
    "source_hash": "db1523f0",
    "execution_start": 1657642727368,
    "execution_millis": 4,
    "deepnote_cell_type": "code",
    "deepnote_cell_height": 171
   },
   "source": "# YOUR CODE HERE\nnewDF = data\nfor i in data.columns:\n    meanI = data[i].mean()\n    newDF = newDF[data[i] > meanI]\nnewDF",
   "execution_count": null,
   "outputs": [
    {
     "name": "stderr",
     "text": "<ipython-input-10-f2d2e5214f61>:5: UserWarning: Boolean Series key will be reindexed to match DataFrame index.\n  newDF = newDF[data[i] > meanI]\n<ipython-input-10-f2d2e5214f61>:5: UserWarning: Boolean Series key will be reindexed to match DataFrame index.\n  newDF = newDF[data[i] > meanI]\n<ipython-input-10-f2d2e5214f61>:5: UserWarning: Boolean Series key will be reindexed to match DataFrame index.\n  newDF = newDF[data[i] > meanI]\n<ipython-input-10-f2d2e5214f61>:5: UserWarning: Boolean Series key will be reindexed to match DataFrame index.\n  newDF = newDF[data[i] > meanI]\n<ipython-input-10-f2d2e5214f61>:5: UserWarning: Boolean Series key will be reindexed to match DataFrame index.\n  newDF = newDF[data[i] > meanI]\n<ipython-input-10-f2d2e5214f61>:5: UserWarning: Boolean Series key will be reindexed to match DataFrame index.\n  newDF = newDF[data[i] > meanI]\n<ipython-input-10-f2d2e5214f61>:5: UserWarning: Boolean Series key will be reindexed to match DataFrame index.\n  newDF = newDF[data[i] > meanI]\n<ipython-input-10-f2d2e5214f61>:5: UserWarning: Boolean Series key will be reindexed to match DataFrame index.\n  newDF = newDF[data[i] > meanI]\n",
     "output_type": "stream"
    },
    {
     "output_type": "execute_result",
     "execution_count": 10,
     "data": {
      "application/vnd.deepnote.dataframe.v3+json": {
       "column_count": 9,
       "row_count": 16,
       "columns": [
        {
         "name": "preg",
         "dtype": "int64",
         "stats": {
          "unique_count": 8,
          "nan_count": 0,
          "min": "5",
          "max": "17",
          "histogram": [
           {
            "bin_start": 5,
            "bin_end": 6.2,
            "count": 1
           },
           {
            "bin_start": 6.2,
            "bin_end": 7.4,
            "count": 3
           },
           {
            "bin_start": 7.4,
            "bin_end": 8.6,
            "count": 3
           },
           {
            "bin_start": 8.6,
            "bin_end": 9.8,
            "count": 3
           },
           {
            "bin_start": 9.8,
            "bin_end": 11,
            "count": 1
           },
           {
            "bin_start": 11,
            "bin_end": 12.2,
            "count": 4
           },
           {
            "bin_start": 12.2,
            "bin_end": 13.4,
            "count": 0
           },
           {
            "bin_start": 13.4,
            "bin_end": 14.6,
            "count": 0
           },
           {
            "bin_start": 14.6,
            "bin_end": 15.799999999999999,
            "count": 0
           },
           {
            "bin_start": 15.799999999999999,
            "bin_end": 17,
            "count": 1
           }
          ]
         }
        },
        {
         "name": "plas",
         "dtype": "int64",
         "stats": {
          "unique_count": 15,
          "nan_count": 0,
          "min": "138",
          "max": "196",
          "histogram": [
           {
            "bin_start": 138,
            "bin_end": 143.8,
            "count": 2
           },
           {
            "bin_start": 143.8,
            "bin_end": 149.6,
            "count": 2
           },
           {
            "bin_start": 149.6,
            "bin_end": 155.4,
            "count": 4
           },
           {
            "bin_start": 155.4,
            "bin_end": 161.2,
            "count": 1
           },
           {
            "bin_start": 161.2,
            "bin_end": 167,
            "count": 1
           },
           {
            "bin_start": 167,
            "bin_end": 172.8,
            "count": 2
           },
           {
            "bin_start": 172.8,
            "bin_end": 178.6,
            "count": 0
           },
           {
            "bin_start": 178.6,
            "bin_end": 184.4,
            "count": 2
           },
           {
            "bin_start": 184.4,
            "bin_end": 190.2,
            "count": 1
           },
           {
            "bin_start": 190.2,
            "bin_end": 196,
            "count": 1
           }
          ]
         }
        },
        {
         "name": "pres",
         "dtype": "int64",
         "stats": {
          "unique_count": 11,
          "nan_count": 0,
          "min": "70",
          "max": "110",
          "histogram": [
           {
            "bin_start": 70,
            "bin_end": 74,
            "count": 3
           },
           {
            "bin_start": 74,
            "bin_end": 78,
            "count": 4
           },
           {
            "bin_start": 78,
            "bin_end": 82,
            "count": 3
           },
           {
            "bin_start": 82,
            "bin_end": 86,
            "count": 3
           },
           {
            "bin_start": 86,
            "bin_end": 90,
            "count": 2
           },
           {
            "bin_start": 90,
            "bin_end": 94,
            "count": 0
           },
           {
            "bin_start": 94,
            "bin_end": 98,
            "count": 0
           },
           {
            "bin_start": 98,
            "bin_end": 102,
            "count": 0
           },
           {
            "bin_start": 102,
            "bin_end": 106,
            "count": 0
           },
           {
            "bin_start": 106,
            "bin_end": 110,
            "count": 1
           }
          ]
         }
        },
        {
         "name": "skin",
         "dtype": "int64",
         "stats": {
          "unique_count": 13,
          "nan_count": 0,
          "min": "21",
          "max": "48",
          "histogram": [
           {
            "bin_start": 21,
            "bin_end": 23.7,
            "count": 1
           },
           {
            "bin_start": 23.7,
            "bin_end": 26.4,
            "count": 2
           },
           {
            "bin_start": 26.4,
            "bin_end": 29.1,
            "count": 5
           },
           {
            "bin_start": 29.1,
            "bin_end": 31.8,
            "count": 0
           },
           {
            "bin_start": 31.8,
            "bin_end": 34.5,
            "count": 1
           },
           {
            "bin_start": 34.5,
            "bin_end": 37.2,
            "count": 0
           },
           {
            "bin_start": 37.2,
            "bin_end": 39.900000000000006,
            "count": 0
           },
           {
            "bin_start": 39.900000000000006,
            "bin_end": 42.6,
            "count": 4
           },
           {
            "bin_start": 42.6,
            "bin_end": 45.3,
            "count": 1
           },
           {
            "bin_start": 45.3,
            "bin_end": 48,
            "count": 2
           }
          ]
         }
        },
        {
         "name": "test",
         "dtype": "int64",
         "stats": {
          "unique_count": 15,
          "nan_count": 0,
          "min": "114",
          "max": "325",
          "histogram": [
           {
            "bin_start": 114,
            "bin_end": 135.1,
            "count": 4
           },
           {
            "bin_start": 135.1,
            "bin_end": 156.2,
            "count": 3
           },
           {
            "bin_start": 156.2,
            "bin_end": 177.3,
            "count": 0
           },
           {
            "bin_start": 177.3,
            "bin_end": 198.4,
            "count": 1
           },
           {
            "bin_start": 198.4,
            "bin_end": 219.5,
            "count": 2
           },
           {
            "bin_start": 219.5,
            "bin_end": 240.60000000000002,
            "count": 2
           },
           {
            "bin_start": 240.60000000000002,
            "bin_end": 261.70000000000005,
            "count": 0
           },
           {
            "bin_start": 261.70000000000005,
            "bin_end": 282.8,
            "count": 2
           },
           {
            "bin_start": 282.8,
            "bin_end": 303.9,
            "count": 0
           },
           {
            "bin_start": 303.9,
            "bin_end": 325,
            "count": 2
           }
          ]
         }
        },
        {
         "name": "mass",
         "dtype": "float64",
         "stats": {
          "unique_count": 16,
          "nan_count": 0,
          "min": "32.7",
          "max": "45.4",
          "histogram": [
           {
            "bin_start": 32.7,
            "bin_end": 33.97,
            "count": 2
           },
           {
            "bin_start": 33.97,
            "bin_end": 35.24,
            "count": 2
           },
           {
            "bin_start": 35.24,
            "bin_end": 36.510000000000005,
            "count": 2
           },
           {
            "bin_start": 36.510000000000005,
            "bin_end": 37.78,
            "count": 2
           },
           {
            "bin_start": 37.78,
            "bin_end": 39.05,
            "count": 2
           },
           {
            "bin_start": 39.05,
            "bin_end": 40.32,
            "count": 1
           },
           {
            "bin_start": 40.32,
            "bin_end": 41.59,
            "count": 1
           },
           {
            "bin_start": 41.59,
            "bin_end": 42.86,
            "count": 1
           },
           {
            "bin_start": 42.86,
            "bin_end": 44.129999999999995,
            "count": 2
           },
           {
            "bin_start": 44.129999999999995,
            "bin_end": 45.4,
            "count": 1
           }
          ]
         }
        },
        {
         "name": "pedi",
         "dtype": "float64",
         "stats": {
          "unique_count": 16,
          "nan_count": 0,
          "min": "0.516",
          "max": "1.353",
          "histogram": [
           {
            "bin_start": 0.516,
            "bin_end": 0.5997,
            "count": 4
           },
           {
            "bin_start": 0.5997,
            "bin_end": 0.6834,
            "count": 2
           },
           {
            "bin_start": 0.6834,
            "bin_end": 0.7671,
            "count": 4
           },
           {
            "bin_start": 0.7671,
            "bin_end": 0.8508,
            "count": 2
           },
           {
            "bin_start": 0.8508,
            "bin_end": 0.9345,
            "count": 0
           },
           {
            "bin_start": 0.9345,
            "bin_end": 1.0182,
            "count": 1
           },
           {
            "bin_start": 1.0182,
            "bin_end": 1.1019,
            "count": 1
           },
           {
            "bin_start": 1.1019,
            "bin_end": 1.1856,
            "count": 0
           },
           {
            "bin_start": 1.1856,
            "bin_end": 1.2692999999999999,
            "count": 1
           },
           {
            "bin_start": 1.2692999999999999,
            "bin_end": 1.353,
            "count": 1
           }
          ]
         }
        },
        {
         "name": "age",
         "dtype": "int64",
         "stats": {
          "unique_count": 11,
          "nan_count": 0,
          "min": "36",
          "max": "58",
          "histogram": [
           {
            "bin_start": 36,
            "bin_end": 38.2,
            "count": 3
           },
           {
            "bin_start": 38.2,
            "bin_end": 40.4,
            "count": 2
           },
           {
            "bin_start": 40.4,
            "bin_end": 42.6,
            "count": 1
           },
           {
            "bin_start": 42.6,
            "bin_end": 44.8,
            "count": 0
           },
           {
            "bin_start": 44.8,
            "bin_end": 47,
            "count": 0
           },
           {
            "bin_start": 47,
            "bin_end": 49.2,
            "count": 1
           },
           {
            "bin_start": 49.2,
            "bin_end": 51.400000000000006,
            "count": 4
           },
           {
            "bin_start": 51.400000000000006,
            "bin_end": 53.6,
            "count": 1
           },
           {
            "bin_start": 53.6,
            "bin_end": 55.8,
            "count": 2
           },
           {
            "bin_start": 55.8,
            "bin_end": 58,
            "count": 2
           }
          ]
         }
        },
        {
         "name": "class",
         "dtype": "int64",
         "stats": {
          "unique_count": 1,
          "nan_count": 0,
          "min": "1",
          "max": "1",
          "histogram": [
           {
            "bin_start": 0.5,
            "bin_end": 0.6,
            "count": 0
           },
           {
            "bin_start": 0.6,
            "bin_end": 0.7,
            "count": 0
           },
           {
            "bin_start": 0.7,
            "bin_end": 0.8,
            "count": 0
           },
           {
            "bin_start": 0.8,
            "bin_end": 0.9,
            "count": 0
           },
           {
            "bin_start": 0.9,
            "bin_end": 1,
            "count": 0
           },
           {
            "bin_start": 1,
            "bin_end": 1.1,
            "count": 16
           },
           {
            "bin_start": 1.1,
            "bin_end": 1.2000000000000002,
            "count": 0
           },
           {
            "bin_start": 1.2000000000000002,
            "bin_end": 1.3,
            "count": 0
           },
           {
            "bin_start": 1.3,
            "bin_end": 1.4,
            "count": 0
           },
           {
            "bin_start": 1.4,
            "bin_end": 1.5,
            "count": 0
           }
          ]
         }
        },
        {
         "name": "_deepnote_index_column",
         "dtype": "int64"
        }
       ],
       "rows": [
        {
         "preg": 9,
         "plas": 171,
         "pres": 110,
         "skin": 24,
         "test": 240,
         "mass": 45.4,
         "pedi": 0.721,
         "age": 54,
         "class": 1,
         "_deepnote_index_column": 43
        },
        {
         "preg": 9,
         "plas": 156,
         "pres": 86,
         "skin": 28,
         "test": 155,
         "mass": 34.3,
         "pedi": 1.189,
         "age": 42,
         "class": 1,
         "_deepnote_index_column": 152
        },
        {
         "preg": 17,
         "plas": 163,
         "pres": 72,
         "skin": 41,
         "test": 114,
         "mass": 40.9,
         "pedi": 0.817,
         "age": 47,
         "class": 1,
         "_deepnote_index_column": 159
        },
        {
         "preg": 8,
         "plas": 179,
         "pres": 72,
         "skin": 42,
         "test": 130,
         "mass": 32.7,
         "pedi": 0.719,
         "age": 36,
         "class": 1,
         "_deepnote_index_column": 175
        },
        {
         "preg": 8,
         "plas": 196,
         "pres": 76,
         "skin": 29,
         "test": 280,
         "mass": 37.5,
         "pedi": 0.605,
         "age": 57,
         "class": 1,
         "_deepnote_index_column": 206
        },
        {
         "preg": 12,
         "plas": 151,
         "pres": 70,
         "skin": 40,
         "test": 271,
         "mass": 41.8,
         "pedi": 0.742,
         "age": 38,
         "class": 1,
         "_deepnote_index_column": 215
        },
        {
         "preg": 7,
         "plas": 181,
         "pres": 84,
         "skin": 21,
         "test": 192,
         "mass": 35.9,
         "pedi": 0.586,
         "age": 51,
         "class": 1,
         "_deepnote_index_column": 236
        },
        {
         "preg": 11,
         "plas": 155,
         "pres": 76,
         "skin": 28,
         "test": 150,
         "mass": 33.3,
         "pedi": 1.353,
         "age": 51,
         "class": 1,
         "_deepnote_index_column": 259
        },
        {
         "preg": 12,
         "plas": 140,
         "pres": 82,
         "skin": 43,
         "test": 325,
         "mass": 39.2,
         "pedi": 0.528,
         "age": 58,
         "class": 1,
         "_deepnote_index_column": 375
        },
        {
         "preg": 8,
         "plas": 151,
         "pres": 78,
         "skin": 32,
         "test": 210,
         "mass": 42.9,
         "pedi": 0.516,
         "age": 36,
         "class": 1,
         "_deepnote_index_column": 424
        }
       ]
      },
      "text/plain": "     preg  plas  pres  skin  test  mass   pedi  age  class\n43      9   171   110    24   240  45.4  0.721   54      1\n152     9   156    86    28   155  34.3  1.189   42      1\n159    17   163    72    41   114  40.9  0.817   47      1\n175     8   179    72    42   130  32.7  0.719   36      1\n206     8   196    76    29   280  37.5  0.605   57      1\n215    12   151    70    40   271  41.8  0.742   38      1\n236     7   181    84    21   192  35.9  0.586   51      1\n259    11   155    76    28   150  33.3  1.353   51      1\n375    12   140    82    43   325  39.2  0.528   58      1\n424     8   151    78    32   210  42.9  0.516   36      1\n458    10   148    84    48   237  37.6  1.001   51      1\n546     5   187    76    27   207  43.6  1.034   53      1\n603     7   150    78    29   126  35.2  0.692   54      1\n612     7   168    88    42   321  38.2  0.787   40      1\n614    11   138    74    26   144  36.1  0.557   50      1\n663     9   145    80    46   130  37.9  0.637   40      1",
      "text/html": "<div>\n<style scoped>\n    .dataframe tbody tr th:only-of-type {\n        vertical-align: middle;\n    }\n\n    .dataframe tbody tr th {\n        vertical-align: top;\n    }\n\n    .dataframe thead th {\n        text-align: right;\n    }\n</style>\n<table border=\"1\" class=\"dataframe\">\n  <thead>\n    <tr style=\"text-align: right;\">\n      <th></th>\n      <th>preg</th>\n      <th>plas</th>\n      <th>pres</th>\n      <th>skin</th>\n      <th>test</th>\n      <th>mass</th>\n      <th>pedi</th>\n      <th>age</th>\n      <th>class</th>\n    </tr>\n  </thead>\n  <tbody>\n    <tr>\n      <th>43</th>\n      <td>9</td>\n      <td>171</td>\n      <td>110</td>\n      <td>24</td>\n      <td>240</td>\n      <td>45.4</td>\n      <td>0.721</td>\n      <td>54</td>\n      <td>1</td>\n    </tr>\n    <tr>\n      <th>152</th>\n      <td>9</td>\n      <td>156</td>\n      <td>86</td>\n      <td>28</td>\n      <td>155</td>\n      <td>34.3</td>\n      <td>1.189</td>\n      <td>42</td>\n      <td>1</td>\n    </tr>\n    <tr>\n      <th>159</th>\n      <td>17</td>\n      <td>163</td>\n      <td>72</td>\n      <td>41</td>\n      <td>114</td>\n      <td>40.9</td>\n      <td>0.817</td>\n      <td>47</td>\n      <td>1</td>\n    </tr>\n    <tr>\n      <th>175</th>\n      <td>8</td>\n      <td>179</td>\n      <td>72</td>\n      <td>42</td>\n      <td>130</td>\n      <td>32.7</td>\n      <td>0.719</td>\n      <td>36</td>\n      <td>1</td>\n    </tr>\n    <tr>\n      <th>206</th>\n      <td>8</td>\n      <td>196</td>\n      <td>76</td>\n      <td>29</td>\n      <td>280</td>\n      <td>37.5</td>\n      <td>0.605</td>\n      <td>57</td>\n      <td>1</td>\n    </tr>\n    <tr>\n      <th>215</th>\n      <td>12</td>\n      <td>151</td>\n      <td>70</td>\n      <td>40</td>\n      <td>271</td>\n      <td>41.8</td>\n      <td>0.742</td>\n      <td>38</td>\n      <td>1</td>\n    </tr>\n    <tr>\n      <th>236</th>\n      <td>7</td>\n      <td>181</td>\n      <td>84</td>\n      <td>21</td>\n      <td>192</td>\n      <td>35.9</td>\n      <td>0.586</td>\n      <td>51</td>\n      <td>1</td>\n    </tr>\n    <tr>\n      <th>259</th>\n      <td>11</td>\n      <td>155</td>\n      <td>76</td>\n      <td>28</td>\n      <td>150</td>\n      <td>33.3</td>\n      <td>1.353</td>\n      <td>51</td>\n      <td>1</td>\n    </tr>\n    <tr>\n      <th>375</th>\n      <td>12</td>\n      <td>140</td>\n      <td>82</td>\n      <td>43</td>\n      <td>325</td>\n      <td>39.2</td>\n      <td>0.528</td>\n      <td>58</td>\n      <td>1</td>\n    </tr>\n    <tr>\n      <th>424</th>\n      <td>8</td>\n      <td>151</td>\n      <td>78</td>\n      <td>32</td>\n      <td>210</td>\n      <td>42.9</td>\n      <td>0.516</td>\n      <td>36</td>\n      <td>1</td>\n    </tr>\n    <tr>\n      <th>458</th>\n      <td>10</td>\n      <td>148</td>\n      <td>84</td>\n      <td>48</td>\n      <td>237</td>\n      <td>37.6</td>\n      <td>1.001</td>\n      <td>51</td>\n      <td>1</td>\n    </tr>\n    <tr>\n      <th>546</th>\n      <td>5</td>\n      <td>187</td>\n      <td>76</td>\n      <td>27</td>\n      <td>207</td>\n      <td>43.6</td>\n      <td>1.034</td>\n      <td>53</td>\n      <td>1</td>\n    </tr>\n    <tr>\n      <th>603</th>\n      <td>7</td>\n      <td>150</td>\n      <td>78</td>\n      <td>29</td>\n      <td>126</td>\n      <td>35.2</td>\n      <td>0.692</td>\n      <td>54</td>\n      <td>1</td>\n    </tr>\n    <tr>\n      <th>612</th>\n      <td>7</td>\n      <td>168</td>\n      <td>88</td>\n      <td>42</td>\n      <td>321</td>\n      <td>38.2</td>\n      <td>0.787</td>\n      <td>40</td>\n      <td>1</td>\n    </tr>\n    <tr>\n      <th>614</th>\n      <td>11</td>\n      <td>138</td>\n      <td>74</td>\n      <td>26</td>\n      <td>144</td>\n      <td>36.1</td>\n      <td>0.557</td>\n      <td>50</td>\n      <td>1</td>\n    </tr>\n    <tr>\n      <th>663</th>\n      <td>9</td>\n      <td>145</td>\n      <td>80</td>\n      <td>46</td>\n      <td>130</td>\n      <td>37.9</td>\n      <td>0.637</td>\n      <td>40</td>\n      <td>1</td>\n    </tr>\n  </tbody>\n</table>\n</div>"
     },
     "metadata": {}
    }
   ]
  },
  {
   "cell_type": "markdown",
   "source": "*Note: the next 3 problems were not explicitly shown in our tutorial—being able to effectively google and look through documentation is a very important coding tool!* ¯\\\\\\_(ツ)_/¯",
   "metadata": {
    "id": "Cy_6ce7_8qAB",
    "colab_type": "text",
    "cell_id": "00022-a1b28b03-6953-469c-a45d-80d21b3d36f6",
    "deepnote_cell_type": "markdown",
    "deepnote_cell_height": 74.796875
   }
  },
  {
   "cell_type": "markdown",
   "source": "Ignoring the index (resetting the index to 0) and using the dataframe from the cell above, sort the values based on `\"skin\"`, `\"test\"`, and `\"pedi\"` values in ascending order. Please write this in one line.",
   "metadata": {
    "colab_type": "text",
    "id": "24pCgP2xbCwZ",
    "cell_id": "00023-818ed759-16d8-4469-8fcb-19c412faa4c9",
    "deepnote_cell_type": "markdown",
    "deepnote_cell_height": 74.796875
   }
  },
  {
   "cell_type": "code",
   "metadata": {
    "colab_type": "code",
    "id": "wXZysbVwa7i5",
    "colab": {},
    "cell_id": "00024-1c8fa3ef-1628-44ef-bef7-554c548fea45",
    "deepnote_to_be_reexecuted": false,
    "source_hash": "e734b61e",
    "execution_start": 1657642727401,
    "execution_millis": 5,
    "deepnote_cell_type": "code",
    "deepnote_cell_height": 99
   },
   "source": "# YOUR CODE HERE\nnewDF.sort_values(by=[\"skin\", \"test\", \"pedi\"], ascending = True)",
   "execution_count": null,
   "outputs": [
    {
     "output_type": "execute_result",
     "execution_count": 11,
     "data": {
      "application/vnd.deepnote.dataframe.v3+json": {
       "column_count": 9,
       "row_count": 16,
       "columns": [
        {
         "name": "preg",
         "dtype": "int64",
         "stats": {
          "unique_count": 8,
          "nan_count": 0,
          "min": "5",
          "max": "17",
          "histogram": [
           {
            "bin_start": 5,
            "bin_end": 6.2,
            "count": 1
           },
           {
            "bin_start": 6.2,
            "bin_end": 7.4,
            "count": 3
           },
           {
            "bin_start": 7.4,
            "bin_end": 8.6,
            "count": 3
           },
           {
            "bin_start": 8.6,
            "bin_end": 9.8,
            "count": 3
           },
           {
            "bin_start": 9.8,
            "bin_end": 11,
            "count": 1
           },
           {
            "bin_start": 11,
            "bin_end": 12.2,
            "count": 4
           },
           {
            "bin_start": 12.2,
            "bin_end": 13.4,
            "count": 0
           },
           {
            "bin_start": 13.4,
            "bin_end": 14.6,
            "count": 0
           },
           {
            "bin_start": 14.6,
            "bin_end": 15.799999999999999,
            "count": 0
           },
           {
            "bin_start": 15.799999999999999,
            "bin_end": 17,
            "count": 1
           }
          ]
         }
        },
        {
         "name": "plas",
         "dtype": "int64",
         "stats": {
          "unique_count": 15,
          "nan_count": 0,
          "min": "138",
          "max": "196",
          "histogram": [
           {
            "bin_start": 138,
            "bin_end": 143.8,
            "count": 2
           },
           {
            "bin_start": 143.8,
            "bin_end": 149.6,
            "count": 2
           },
           {
            "bin_start": 149.6,
            "bin_end": 155.4,
            "count": 4
           },
           {
            "bin_start": 155.4,
            "bin_end": 161.2,
            "count": 1
           },
           {
            "bin_start": 161.2,
            "bin_end": 167,
            "count": 1
           },
           {
            "bin_start": 167,
            "bin_end": 172.8,
            "count": 2
           },
           {
            "bin_start": 172.8,
            "bin_end": 178.6,
            "count": 0
           },
           {
            "bin_start": 178.6,
            "bin_end": 184.4,
            "count": 2
           },
           {
            "bin_start": 184.4,
            "bin_end": 190.2,
            "count": 1
           },
           {
            "bin_start": 190.2,
            "bin_end": 196,
            "count": 1
           }
          ]
         }
        },
        {
         "name": "pres",
         "dtype": "int64",
         "stats": {
          "unique_count": 11,
          "nan_count": 0,
          "min": "70",
          "max": "110",
          "histogram": [
           {
            "bin_start": 70,
            "bin_end": 74,
            "count": 3
           },
           {
            "bin_start": 74,
            "bin_end": 78,
            "count": 4
           },
           {
            "bin_start": 78,
            "bin_end": 82,
            "count": 3
           },
           {
            "bin_start": 82,
            "bin_end": 86,
            "count": 3
           },
           {
            "bin_start": 86,
            "bin_end": 90,
            "count": 2
           },
           {
            "bin_start": 90,
            "bin_end": 94,
            "count": 0
           },
           {
            "bin_start": 94,
            "bin_end": 98,
            "count": 0
           },
           {
            "bin_start": 98,
            "bin_end": 102,
            "count": 0
           },
           {
            "bin_start": 102,
            "bin_end": 106,
            "count": 0
           },
           {
            "bin_start": 106,
            "bin_end": 110,
            "count": 1
           }
          ]
         }
        },
        {
         "name": "skin",
         "dtype": "int64",
         "stats": {
          "unique_count": 13,
          "nan_count": 0,
          "min": "21",
          "max": "48",
          "histogram": [
           {
            "bin_start": 21,
            "bin_end": 23.7,
            "count": 1
           },
           {
            "bin_start": 23.7,
            "bin_end": 26.4,
            "count": 2
           },
           {
            "bin_start": 26.4,
            "bin_end": 29.1,
            "count": 5
           },
           {
            "bin_start": 29.1,
            "bin_end": 31.8,
            "count": 0
           },
           {
            "bin_start": 31.8,
            "bin_end": 34.5,
            "count": 1
           },
           {
            "bin_start": 34.5,
            "bin_end": 37.2,
            "count": 0
           },
           {
            "bin_start": 37.2,
            "bin_end": 39.900000000000006,
            "count": 0
           },
           {
            "bin_start": 39.900000000000006,
            "bin_end": 42.6,
            "count": 4
           },
           {
            "bin_start": 42.6,
            "bin_end": 45.3,
            "count": 1
           },
           {
            "bin_start": 45.3,
            "bin_end": 48,
            "count": 2
           }
          ]
         }
        },
        {
         "name": "test",
         "dtype": "int64",
         "stats": {
          "unique_count": 15,
          "nan_count": 0,
          "min": "114",
          "max": "325",
          "histogram": [
           {
            "bin_start": 114,
            "bin_end": 135.1,
            "count": 4
           },
           {
            "bin_start": 135.1,
            "bin_end": 156.2,
            "count": 3
           },
           {
            "bin_start": 156.2,
            "bin_end": 177.3,
            "count": 0
           },
           {
            "bin_start": 177.3,
            "bin_end": 198.4,
            "count": 1
           },
           {
            "bin_start": 198.4,
            "bin_end": 219.5,
            "count": 2
           },
           {
            "bin_start": 219.5,
            "bin_end": 240.60000000000002,
            "count": 2
           },
           {
            "bin_start": 240.60000000000002,
            "bin_end": 261.70000000000005,
            "count": 0
           },
           {
            "bin_start": 261.70000000000005,
            "bin_end": 282.8,
            "count": 2
           },
           {
            "bin_start": 282.8,
            "bin_end": 303.9,
            "count": 0
           },
           {
            "bin_start": 303.9,
            "bin_end": 325,
            "count": 2
           }
          ]
         }
        },
        {
         "name": "mass",
         "dtype": "float64",
         "stats": {
          "unique_count": 16,
          "nan_count": 0,
          "min": "32.7",
          "max": "45.4",
          "histogram": [
           {
            "bin_start": 32.7,
            "bin_end": 33.97,
            "count": 2
           },
           {
            "bin_start": 33.97,
            "bin_end": 35.24,
            "count": 2
           },
           {
            "bin_start": 35.24,
            "bin_end": 36.510000000000005,
            "count": 2
           },
           {
            "bin_start": 36.510000000000005,
            "bin_end": 37.78,
            "count": 2
           },
           {
            "bin_start": 37.78,
            "bin_end": 39.05,
            "count": 2
           },
           {
            "bin_start": 39.05,
            "bin_end": 40.32,
            "count": 1
           },
           {
            "bin_start": 40.32,
            "bin_end": 41.59,
            "count": 1
           },
           {
            "bin_start": 41.59,
            "bin_end": 42.86,
            "count": 1
           },
           {
            "bin_start": 42.86,
            "bin_end": 44.129999999999995,
            "count": 2
           },
           {
            "bin_start": 44.129999999999995,
            "bin_end": 45.4,
            "count": 1
           }
          ]
         }
        },
        {
         "name": "pedi",
         "dtype": "float64",
         "stats": {
          "unique_count": 16,
          "nan_count": 0,
          "min": "0.516",
          "max": "1.353",
          "histogram": [
           {
            "bin_start": 0.516,
            "bin_end": 0.5997,
            "count": 4
           },
           {
            "bin_start": 0.5997,
            "bin_end": 0.6834,
            "count": 2
           },
           {
            "bin_start": 0.6834,
            "bin_end": 0.7671,
            "count": 4
           },
           {
            "bin_start": 0.7671,
            "bin_end": 0.8508,
            "count": 2
           },
           {
            "bin_start": 0.8508,
            "bin_end": 0.9345,
            "count": 0
           },
           {
            "bin_start": 0.9345,
            "bin_end": 1.0182,
            "count": 1
           },
           {
            "bin_start": 1.0182,
            "bin_end": 1.1019,
            "count": 1
           },
           {
            "bin_start": 1.1019,
            "bin_end": 1.1856,
            "count": 0
           },
           {
            "bin_start": 1.1856,
            "bin_end": 1.2692999999999999,
            "count": 1
           },
           {
            "bin_start": 1.2692999999999999,
            "bin_end": 1.353,
            "count": 1
           }
          ]
         }
        },
        {
         "name": "age",
         "dtype": "int64",
         "stats": {
          "unique_count": 11,
          "nan_count": 0,
          "min": "36",
          "max": "58",
          "histogram": [
           {
            "bin_start": 36,
            "bin_end": 38.2,
            "count": 3
           },
           {
            "bin_start": 38.2,
            "bin_end": 40.4,
            "count": 2
           },
           {
            "bin_start": 40.4,
            "bin_end": 42.6,
            "count": 1
           },
           {
            "bin_start": 42.6,
            "bin_end": 44.8,
            "count": 0
           },
           {
            "bin_start": 44.8,
            "bin_end": 47,
            "count": 0
           },
           {
            "bin_start": 47,
            "bin_end": 49.2,
            "count": 1
           },
           {
            "bin_start": 49.2,
            "bin_end": 51.400000000000006,
            "count": 4
           },
           {
            "bin_start": 51.400000000000006,
            "bin_end": 53.6,
            "count": 1
           },
           {
            "bin_start": 53.6,
            "bin_end": 55.8,
            "count": 2
           },
           {
            "bin_start": 55.8,
            "bin_end": 58,
            "count": 2
           }
          ]
         }
        },
        {
         "name": "class",
         "dtype": "int64",
         "stats": {
          "unique_count": 1,
          "nan_count": 0,
          "min": "1",
          "max": "1",
          "histogram": [
           {
            "bin_start": 0.5,
            "bin_end": 0.6,
            "count": 0
           },
           {
            "bin_start": 0.6,
            "bin_end": 0.7,
            "count": 0
           },
           {
            "bin_start": 0.7,
            "bin_end": 0.8,
            "count": 0
           },
           {
            "bin_start": 0.8,
            "bin_end": 0.9,
            "count": 0
           },
           {
            "bin_start": 0.9,
            "bin_end": 1,
            "count": 0
           },
           {
            "bin_start": 1,
            "bin_end": 1.1,
            "count": 16
           },
           {
            "bin_start": 1.1,
            "bin_end": 1.2000000000000002,
            "count": 0
           },
           {
            "bin_start": 1.2000000000000002,
            "bin_end": 1.3,
            "count": 0
           },
           {
            "bin_start": 1.3,
            "bin_end": 1.4,
            "count": 0
           },
           {
            "bin_start": 1.4,
            "bin_end": 1.5,
            "count": 0
           }
          ]
         }
        },
        {
         "name": "_deepnote_index_column",
         "dtype": "int64"
        }
       ],
       "rows": [
        {
         "preg": 7,
         "plas": 181,
         "pres": 84,
         "skin": 21,
         "test": 192,
         "mass": 35.9,
         "pedi": 0.586,
         "age": 51,
         "class": 1,
         "_deepnote_index_column": 236
        },
        {
         "preg": 9,
         "plas": 171,
         "pres": 110,
         "skin": 24,
         "test": 240,
         "mass": 45.4,
         "pedi": 0.721,
         "age": 54,
         "class": 1,
         "_deepnote_index_column": 43
        },
        {
         "preg": 11,
         "plas": 138,
         "pres": 74,
         "skin": 26,
         "test": 144,
         "mass": 36.1,
         "pedi": 0.557,
         "age": 50,
         "class": 1,
         "_deepnote_index_column": 614
        },
        {
         "preg": 5,
         "plas": 187,
         "pres": 76,
         "skin": 27,
         "test": 207,
         "mass": 43.6,
         "pedi": 1.034,
         "age": 53,
         "class": 1,
         "_deepnote_index_column": 546
        },
        {
         "preg": 11,
         "plas": 155,
         "pres": 76,
         "skin": 28,
         "test": 150,
         "mass": 33.3,
         "pedi": 1.353,
         "age": 51,
         "class": 1,
         "_deepnote_index_column": 259
        },
        {
         "preg": 9,
         "plas": 156,
         "pres": 86,
         "skin": 28,
         "test": 155,
         "mass": 34.3,
         "pedi": 1.189,
         "age": 42,
         "class": 1,
         "_deepnote_index_column": 152
        },
        {
         "preg": 7,
         "plas": 150,
         "pres": 78,
         "skin": 29,
         "test": 126,
         "mass": 35.2,
         "pedi": 0.692,
         "age": 54,
         "class": 1,
         "_deepnote_index_column": 603
        },
        {
         "preg": 8,
         "plas": 196,
         "pres": 76,
         "skin": 29,
         "test": 280,
         "mass": 37.5,
         "pedi": 0.605,
         "age": 57,
         "class": 1,
         "_deepnote_index_column": 206
        },
        {
         "preg": 8,
         "plas": 151,
         "pres": 78,
         "skin": 32,
         "test": 210,
         "mass": 42.9,
         "pedi": 0.516,
         "age": 36,
         "class": 1,
         "_deepnote_index_column": 424
        },
        {
         "preg": 12,
         "plas": 151,
         "pres": 70,
         "skin": 40,
         "test": 271,
         "mass": 41.8,
         "pedi": 0.742,
         "age": 38,
         "class": 1,
         "_deepnote_index_column": 215
        }
       ]
      },
      "text/plain": "     preg  plas  pres  skin  test  mass   pedi  age  class\n236     7   181    84    21   192  35.9  0.586   51      1\n43      9   171   110    24   240  45.4  0.721   54      1\n614    11   138    74    26   144  36.1  0.557   50      1\n546     5   187    76    27   207  43.6  1.034   53      1\n259    11   155    76    28   150  33.3  1.353   51      1\n152     9   156    86    28   155  34.3  1.189   42      1\n603     7   150    78    29   126  35.2  0.692   54      1\n206     8   196    76    29   280  37.5  0.605   57      1\n424     8   151    78    32   210  42.9  0.516   36      1\n215    12   151    70    40   271  41.8  0.742   38      1\n159    17   163    72    41   114  40.9  0.817   47      1\n175     8   179    72    42   130  32.7  0.719   36      1\n612     7   168    88    42   321  38.2  0.787   40      1\n375    12   140    82    43   325  39.2  0.528   58      1\n663     9   145    80    46   130  37.9  0.637   40      1\n458    10   148    84    48   237  37.6  1.001   51      1",
      "text/html": "<div>\n<style scoped>\n    .dataframe tbody tr th:only-of-type {\n        vertical-align: middle;\n    }\n\n    .dataframe tbody tr th {\n        vertical-align: top;\n    }\n\n    .dataframe thead th {\n        text-align: right;\n    }\n</style>\n<table border=\"1\" class=\"dataframe\">\n  <thead>\n    <tr style=\"text-align: right;\">\n      <th></th>\n      <th>preg</th>\n      <th>plas</th>\n      <th>pres</th>\n      <th>skin</th>\n      <th>test</th>\n      <th>mass</th>\n      <th>pedi</th>\n      <th>age</th>\n      <th>class</th>\n    </tr>\n  </thead>\n  <tbody>\n    <tr>\n      <th>236</th>\n      <td>7</td>\n      <td>181</td>\n      <td>84</td>\n      <td>21</td>\n      <td>192</td>\n      <td>35.9</td>\n      <td>0.586</td>\n      <td>51</td>\n      <td>1</td>\n    </tr>\n    <tr>\n      <th>43</th>\n      <td>9</td>\n      <td>171</td>\n      <td>110</td>\n      <td>24</td>\n      <td>240</td>\n      <td>45.4</td>\n      <td>0.721</td>\n      <td>54</td>\n      <td>1</td>\n    </tr>\n    <tr>\n      <th>614</th>\n      <td>11</td>\n      <td>138</td>\n      <td>74</td>\n      <td>26</td>\n      <td>144</td>\n      <td>36.1</td>\n      <td>0.557</td>\n      <td>50</td>\n      <td>1</td>\n    </tr>\n    <tr>\n      <th>546</th>\n      <td>5</td>\n      <td>187</td>\n      <td>76</td>\n      <td>27</td>\n      <td>207</td>\n      <td>43.6</td>\n      <td>1.034</td>\n      <td>53</td>\n      <td>1</td>\n    </tr>\n    <tr>\n      <th>259</th>\n      <td>11</td>\n      <td>155</td>\n      <td>76</td>\n      <td>28</td>\n      <td>150</td>\n      <td>33.3</td>\n      <td>1.353</td>\n      <td>51</td>\n      <td>1</td>\n    </tr>\n    <tr>\n      <th>152</th>\n      <td>9</td>\n      <td>156</td>\n      <td>86</td>\n      <td>28</td>\n      <td>155</td>\n      <td>34.3</td>\n      <td>1.189</td>\n      <td>42</td>\n      <td>1</td>\n    </tr>\n    <tr>\n      <th>603</th>\n      <td>7</td>\n      <td>150</td>\n      <td>78</td>\n      <td>29</td>\n      <td>126</td>\n      <td>35.2</td>\n      <td>0.692</td>\n      <td>54</td>\n      <td>1</td>\n    </tr>\n    <tr>\n      <th>206</th>\n      <td>8</td>\n      <td>196</td>\n      <td>76</td>\n      <td>29</td>\n      <td>280</td>\n      <td>37.5</td>\n      <td>0.605</td>\n      <td>57</td>\n      <td>1</td>\n    </tr>\n    <tr>\n      <th>424</th>\n      <td>8</td>\n      <td>151</td>\n      <td>78</td>\n      <td>32</td>\n      <td>210</td>\n      <td>42.9</td>\n      <td>0.516</td>\n      <td>36</td>\n      <td>1</td>\n    </tr>\n    <tr>\n      <th>215</th>\n      <td>12</td>\n      <td>151</td>\n      <td>70</td>\n      <td>40</td>\n      <td>271</td>\n      <td>41.8</td>\n      <td>0.742</td>\n      <td>38</td>\n      <td>1</td>\n    </tr>\n    <tr>\n      <th>159</th>\n      <td>17</td>\n      <td>163</td>\n      <td>72</td>\n      <td>41</td>\n      <td>114</td>\n      <td>40.9</td>\n      <td>0.817</td>\n      <td>47</td>\n      <td>1</td>\n    </tr>\n    <tr>\n      <th>175</th>\n      <td>8</td>\n      <td>179</td>\n      <td>72</td>\n      <td>42</td>\n      <td>130</td>\n      <td>32.7</td>\n      <td>0.719</td>\n      <td>36</td>\n      <td>1</td>\n    </tr>\n    <tr>\n      <th>612</th>\n      <td>7</td>\n      <td>168</td>\n      <td>88</td>\n      <td>42</td>\n      <td>321</td>\n      <td>38.2</td>\n      <td>0.787</td>\n      <td>40</td>\n      <td>1</td>\n    </tr>\n    <tr>\n      <th>375</th>\n      <td>12</td>\n      <td>140</td>\n      <td>82</td>\n      <td>43</td>\n      <td>325</td>\n      <td>39.2</td>\n      <td>0.528</td>\n      <td>58</td>\n      <td>1</td>\n    </tr>\n    <tr>\n      <th>663</th>\n      <td>9</td>\n      <td>145</td>\n      <td>80</td>\n      <td>46</td>\n      <td>130</td>\n      <td>37.9</td>\n      <td>0.637</td>\n      <td>40</td>\n      <td>1</td>\n    </tr>\n    <tr>\n      <th>458</th>\n      <td>10</td>\n      <td>148</td>\n      <td>84</td>\n      <td>48</td>\n      <td>237</td>\n      <td>37.6</td>\n      <td>1.001</td>\n      <td>51</td>\n      <td>1</td>\n    </tr>\n  </tbody>\n</table>\n</div>"
     },
     "metadata": {}
    }
   ]
  },
  {
   "cell_type": "markdown",
   "source": "Now let's find the 4 largest values for `\"age\"`",
   "metadata": {
    "colab_type": "text",
    "id": "BIJkXsK4ch-u",
    "cell_id": "00025-31c03cc1-a702-4c90-89f0-dab8fb9b51bf",
    "deepnote_cell_type": "markdown",
    "deepnote_cell_height": 52.390625
   }
  },
  {
   "cell_type": "code",
   "metadata": {
    "colab_type": "code",
    "id": "kSl28jLLdAF9",
    "colab": {},
    "cell_id": "00026-9728e4ca-d0d3-4d8c-a818-707a90e9e5d3",
    "deepnote_to_be_reexecuted": false,
    "source_hash": "826c9ccb",
    "execution_start": 1657642727450,
    "execution_millis": 55,
    "deepnote_table_state": {
     "pageSize": 100,
     "pageIndex": 0,
     "filters": [],
     "sortBy": []
    },
    "deepnote_table_loading": false,
    "deepnote_cell_type": "code",
    "deepnote_cell_height": 81
   },
   "source": "newDF.nlargest(4, ['age'])['age']",
   "execution_count": null,
   "outputs": [
    {
     "output_type": "execute_result",
     "execution_count": 12,
     "data": {
      "text/plain": "375    58\n206    57\n43     54\n603    54\nName: age, dtype: int64"
     },
     "metadata": {}
    }
   ]
  },
  {
   "cell_type": "markdown",
   "source": "Now find the smallest 4 values for `\"pedi\"` and `\"plas\"` in reverse order (smallest to largest).",
   "metadata": {
    "colab_type": "text",
    "id": "fJRwe8UfqvNG",
    "cell_id": "00027-a5e12cb1-a313-47bf-9640-256181c460ad",
    "deepnote_cell_type": "markdown",
    "deepnote_cell_height": 52.390625
   }
  },
  {
   "cell_type": "code",
   "metadata": {
    "colab_type": "code",
    "id": "icQcbPg1quNI",
    "colab": {},
    "cell_id": "00028-2add4c0a-65b7-424e-a4d9-756817979e60",
    "deepnote_to_be_reexecuted": false,
    "source_hash": "76c1b99a",
    "execution_start": 1657642727451,
    "execution_millis": 54,
    "owner_user_id": "dfabe943-1737-4b40-a212-0d18b9783466",
    "deepnote_cell_type": "code",
    "deepnote_cell_height": 99
   },
   "source": "print(newDF.nsmallest(4, ['pedi'])['pedi'])\nprint(newDF.nsmallest(4, ['plas'])['plas'])",
   "execution_count": null,
   "outputs": [
    {
     "name": "stdout",
     "text": "424    0.516\n375    0.528\n614    0.557\n236    0.586\nName: pedi, dtype: float64\n614    138\n375    140\n663    145\n458    148\nName: plas, dtype: int64\n",
     "output_type": "stream"
    }
   ]
  },
  {
   "cell_type": "markdown",
   "source": "<a style='text-decoration:none;line-height:16px;display:flex;color:#5B5B62;padding:10px;justify-content:end;' href='https://deepnote.com?utm_source=created-in-deepnote-cell&projectId=580db97b-d3cc-4aaf-a4cd-4b3fe2541c47' target=\"_blank\">\n<img alt='Created in deepnote.com' style='display:inline;max-height:16px;margin:0px;margin-right:7.5px;' src='data:image/svg+xml;base64,PD94bWwgdmVyc2lvbj0iMS4wIiBlbmNvZGluZz0iVVRGLTgiPz4KPHN2ZyB3aWR0aD0iODBweCIgaGVpZ2h0PSI4MHB4IiB2aWV3Qm94PSIwIDAgODAgODAiIHZlcnNpb249IjEuMSIgeG1sbnM9Imh0dHA6Ly93d3cudzMub3JnLzIwMDAvc3ZnIiB4bWxuczp4bGluaz0iaHR0cDovL3d3dy53My5vcmcvMTk5OS94bGluayI+CiAgICA8IS0tIEdlbmVyYXRvcjogU2tldGNoIDU0LjEgKDc2NDkwKSAtIGh0dHBzOi8vc2tldGNoYXBwLmNvbSAtLT4KICAgIDx0aXRsZT5Hcm91cCAzPC90aXRsZT4KICAgIDxkZXNjPkNyZWF0ZWQgd2l0aCBTa2V0Y2guPC9kZXNjPgogICAgPGcgaWQ9IkxhbmRpbmciIHN0cm9rZT0ibm9uZSIgc3Ryb2tlLXdpZHRoPSIxIiBmaWxsPSJub25lIiBmaWxsLXJ1bGU9ImV2ZW5vZGQiPgogICAgICAgIDxnIGlkPSJBcnRib2FyZCIgdHJhbnNmb3JtPSJ0cmFuc2xhdGUoLTEyMzUuMDAwMDAwLCAtNzkuMDAwMDAwKSI+CiAgICAgICAgICAgIDxnIGlkPSJHcm91cC0zIiB0cmFuc2Zvcm09InRyYW5zbGF0ZSgxMjM1LjAwMDAwMCwgNzkuMDAwMDAwKSI+CiAgICAgICAgICAgICAgICA8cG9seWdvbiBpZD0iUGF0aC0yMCIgZmlsbD0iIzAyNjVCNCIgcG9pbnRzPSIyLjM3NjIzNzYyIDgwIDM4LjA0NzY2NjcgODAgNTcuODIxNzgyMiA3My44MDU3NTkyIDU3LjgyMTc4MjIgMzIuNzU5MjczOSAzOS4xNDAyMjc4IDMxLjY4MzE2ODMiPjwvcG9seWdvbj4KICAgICAgICAgICAgICAgIDxwYXRoIGQ9Ik0zNS4wMDc3MTgsODAgQzQyLjkwNjIwMDcsNzYuNDU0OTM1OCA0Ny41NjQ5MTY3LDcxLjU0MjI2NzEgNDguOTgzODY2LDY1LjI2MTk5MzkgQzUxLjExMjI4OTksNTUuODQxNTg0MiA0MS42NzcxNzk1LDQ5LjIxMjIyODQgMjUuNjIzOTg0Niw0OS4yMTIyMjg0IEMyNS40ODQ5Mjg5LDQ5LjEyNjg0NDggMjkuODI2MTI5Niw0My4yODM4MjQ4IDM4LjY0NzU4NjksMzEuNjgzMTY4MyBMNzIuODcxMjg3MSwzMi41NTQ0MjUgTDY1LjI4MDk3Myw2Ny42NzYzNDIxIEw1MS4xMTIyODk5LDc3LjM3NjE0NCBMMzUuMDA3NzE4LDgwIFoiIGlkPSJQYXRoLTIyIiBmaWxsPSIjMDAyODY4Ij48L3BhdGg+CiAgICAgICAgICAgICAgICA8cGF0aCBkPSJNMCwzNy43MzA0NDA1IEwyNy4xMTQ1MzcsMC4yNTcxMTE0MzYgQzYyLjM3MTUxMjMsLTEuOTkwNzE3MDEgODAsMTAuNTAwMzkyNyA4MCwzNy43MzA0NDA1IEM4MCw2NC45NjA0ODgyIDY0Ljc3NjUwMzgsNzkuMDUwMzQxNCAzNC4zMjk1MTEzLDgwIEM0Ny4wNTUzNDg5LDc3LjU2NzA4MDggNTMuNDE4MjY3Nyw3MC4zMTM2MTAzIDUzLjQxODI2NzcsNTguMjM5NTg4NSBDNTMuNDE4MjY3Nyw0MC4xMjg1NTU3IDM2LjMwMzk1NDQsMzcuNzMwNDQwNSAyNS4yMjc0MTcsMzcuNzMwNDQwNSBDMTcuODQzMDU4NiwzNy43MzA0NDA1IDkuNDMzOTE5NjYsMzcuNzMwNDQwNSAwLDM3LjczMDQ0MDUgWiIgaWQ9IlBhdGgtMTkiIGZpbGw9IiMzNzkzRUYiPjwvcGF0aD4KICAgICAgICAgICAgPC9nPgogICAgICAgIDwvZz4KICAgIDwvZz4KPC9zdmc+' > </img>\nCreated in <span style='font-weight:600;margin-left:4px;'>Deepnote</span></a>",
   "metadata": {
    "tags": [],
    "created_in_deepnote_cell": true,
    "deepnote_cell_type": "markdown"
   }
  }
 ],
 "nbformat": 4,
 "nbformat_minor": 0,
 "metadata": {
  "colab": {
   "name": "Pandas_Exercises",
   "provenance": [],
   "collapsed_sections": []
  },
  "kernelspec": {
   "display_name": "Python 3",
   "language": "python",
   "name": "python3"
  },
  "language_info": {
   "codemirror_mode": {
    "name": "ipython",
    "version": 3
   },
   "file_extension": ".py",
   "mimetype": "text/x-python",
   "name": "python",
   "nbconvert_exporter": "python",
   "pygments_lexer": "ipython3",
   "version": "3.7.3"
  },
  "deepnote_notebook_id": "86faf811-6ae2-4018-b15f-d354237ab127",
  "deepnote": {},
  "deepnote_execution_queue": []
 }
}